{
 "cells": [
  {
   "cell_type": "markdown",
   "metadata": {
    "slideshow": {
     "slide_type": "slide"
    }
   },
   "source": [
    "<img src=\"bay_wheels.png\" style=\"width:1000px; height:500px\"/>"
   ]
  },
  {
   "cell_type": "markdown",
   "metadata": {
    "slideshow": {
     "slide_type": "slide"
    }
   },
   "source": [
    "## Lyft - Bay Wheels BikeShare Project\n",
    "\n",
    "Each trip is anonymized and includes:\n",
    "\n",
    "- Trip Duration (seconds)\n",
    "- Start Time and Date\n",
    "- End Time and Date\n",
    "- Start Station ID\n",
    "- Start Station Name\n",
    "- Start Station Latitude\n",
    "- Start Station Longitude\n",
    "- End Station ID\n",
    "- End Station Name\n",
    "- End Station Latitude\n",
    "- End Station Longitude\n",
    "- Bike ID\n",
    "- User Type (Subscriber or Customer – “Subscriber” = Member or “Customer” = Casual)\n",
    "- Member Year of Birth\n",
    "- Member Gender\n"
   ]
  },
  {
   "cell_type": "markdown",
   "metadata": {
    "slideshow": {
     "slide_type": "skip"
    }
   },
   "source": [
    "### Table of Contents\n",
    "<ol>\n",
    "<li><a href=\"#gathering\">Data Gathering</a></li>\n",
    "<li><a href=\"#assessing\">Data Assessing</a></li>\n",
    "<li><a href='#cleaning'>Data Cleaning</a></li>\n",
    "<li><a href=\"#storing\">Data Storing</a></li>\n",
    "<li><a href=\"#univariate\">Univariate</a></li>\n",
    "<li><a href=\"#bivariate\">Bivariate</a></li>\n",
    "<li><a href=\"#multivariate\">Multivariate</a></li>\n",
    "<li><a href=\"#reference\">Reference</a></li>\n",
    "\n",
    "\n",
    "</ol>"
   ]
  },
  {
   "cell_type": "markdown",
   "metadata": {
    "slideshow": {
     "slide_type": "skip"
    }
   },
   "source": [
    "#### <a id='gathering'></a>\n",
    "## 1. Data Gathering"
   ]
  },
  {
   "cell_type": "code",
   "execution_count": 2,
   "metadata": {
    "slideshow": {
     "slide_type": "skip"
    }
   },
   "outputs": [],
   "source": [
    "import requests\n",
    "import numpy as np\n",
    "import pandas as pd\n",
    "import time\n",
    "import datetime\n",
    "import matplotlib.pyplot as plt\n",
    "import seaborn as sb\n",
    "%matplotlib inline"
   ]
  },
  {
   "cell_type": "code",
   "execution_count": 3,
   "metadata": {
    "slideshow": {
     "slide_type": "skip"
    }
   },
   "outputs": [
    {
     "data": {
      "text/html": [
       "<div>\n",
       "<style scoped>\n",
       "    .dataframe tbody tr th:only-of-type {\n",
       "        vertical-align: middle;\n",
       "    }\n",
       "\n",
       "    .dataframe tbody tr th {\n",
       "        vertical-align: top;\n",
       "    }\n",
       "\n",
       "    .dataframe thead th {\n",
       "        text-align: right;\n",
       "    }\n",
       "</style>\n",
       "<table border=\"1\" class=\"dataframe\">\n",
       "  <thead>\n",
       "    <tr style=\"text-align: right;\">\n",
       "      <th></th>\n",
       "      <th>duration_sec</th>\n",
       "      <th>start_time</th>\n",
       "      <th>end_time</th>\n",
       "      <th>start_station_id</th>\n",
       "      <th>start_station_name</th>\n",
       "      <th>start_station_latitude</th>\n",
       "      <th>start_station_longitude</th>\n",
       "      <th>end_station_id</th>\n",
       "      <th>end_station_name</th>\n",
       "      <th>end_station_latitude</th>\n",
       "      <th>end_station_longitude</th>\n",
       "      <th>bike_id</th>\n",
       "      <th>user_type</th>\n",
       "      <th>member_birth_year</th>\n",
       "      <th>member_gender</th>\n",
       "      <th>bike_share_for_all_trip</th>\n",
       "    </tr>\n",
       "  </thead>\n",
       "  <tbody>\n",
       "    <tr>\n",
       "      <th>0</th>\n",
       "      <td>80825</td>\n",
       "      <td>2019-01-31 17:57:44.6130</td>\n",
       "      <td>2019-02-01 16:24:49.8640</td>\n",
       "      <td>229.0</td>\n",
       "      <td>Foothill Blvd at 42nd Ave</td>\n",
       "      <td>37.775745</td>\n",
       "      <td>-122.213037</td>\n",
       "      <td>196.0</td>\n",
       "      <td>Grand Ave at Perkins St</td>\n",
       "      <td>37.808894</td>\n",
       "      <td>-122.256460</td>\n",
       "      <td>4861</td>\n",
       "      <td>Subscriber</td>\n",
       "      <td>1989.0</td>\n",
       "      <td>Male</td>\n",
       "      <td>No</td>\n",
       "    </tr>\n",
       "    <tr>\n",
       "      <th>1</th>\n",
       "      <td>65900</td>\n",
       "      <td>2019-01-31 20:58:33.8860</td>\n",
       "      <td>2019-02-01 15:16:54.1730</td>\n",
       "      <td>4.0</td>\n",
       "      <td>Cyril Magnin St at Ellis St</td>\n",
       "      <td>37.785881</td>\n",
       "      <td>-122.408915</td>\n",
       "      <td>134.0</td>\n",
       "      <td>Valencia St at 24th St</td>\n",
       "      <td>37.752428</td>\n",
       "      <td>-122.420628</td>\n",
       "      <td>5506</td>\n",
       "      <td>Subscriber</td>\n",
       "      <td>1989.0</td>\n",
       "      <td>Male</td>\n",
       "      <td>No</td>\n",
       "    </tr>\n",
       "    <tr>\n",
       "      <th>2</th>\n",
       "      <td>62633</td>\n",
       "      <td>2019-01-31 18:06:52.9240</td>\n",
       "      <td>2019-02-01 11:30:46.5300</td>\n",
       "      <td>245.0</td>\n",
       "      <td>Downtown Berkeley BART</td>\n",
       "      <td>37.870139</td>\n",
       "      <td>-122.268422</td>\n",
       "      <td>157.0</td>\n",
       "      <td>65th St at Hollis St</td>\n",
       "      <td>37.846784</td>\n",
       "      <td>-122.291376</td>\n",
       "      <td>2717</td>\n",
       "      <td>Customer</td>\n",
       "      <td>1965.0</td>\n",
       "      <td>Female</td>\n",
       "      <td>No</td>\n",
       "    </tr>\n",
       "    <tr>\n",
       "      <th>3</th>\n",
       "      <td>44680</td>\n",
       "      <td>2019-01-31 19:46:09.7190</td>\n",
       "      <td>2019-02-01 08:10:50.3180</td>\n",
       "      <td>85.0</td>\n",
       "      <td>Church St at Duboce Ave</td>\n",
       "      <td>37.770083</td>\n",
       "      <td>-122.429156</td>\n",
       "      <td>53.0</td>\n",
       "      <td>Grove St at Divisadero</td>\n",
       "      <td>37.775946</td>\n",
       "      <td>-122.437777</td>\n",
       "      <td>4557</td>\n",
       "      <td>Customer</td>\n",
       "      <td>1974.0</td>\n",
       "      <td>Male</td>\n",
       "      <td>No</td>\n",
       "    </tr>\n",
       "    <tr>\n",
       "      <th>4</th>\n",
       "      <td>60709</td>\n",
       "      <td>2019-01-31 14:19:01.5410</td>\n",
       "      <td>2019-02-01 07:10:51.0650</td>\n",
       "      <td>16.0</td>\n",
       "      <td>Steuart St at Market St</td>\n",
       "      <td>37.794130</td>\n",
       "      <td>-122.394430</td>\n",
       "      <td>28.0</td>\n",
       "      <td>The Embarcadero at Bryant St</td>\n",
       "      <td>37.787168</td>\n",
       "      <td>-122.388098</td>\n",
       "      <td>2100</td>\n",
       "      <td>Customer</td>\n",
       "      <td>NaN</td>\n",
       "      <td>NaN</td>\n",
       "      <td>No</td>\n",
       "    </tr>\n",
       "  </tbody>\n",
       "</table>\n",
       "</div>"
      ],
      "text/plain": [
       "   duration_sec                start_time                  end_time  \\\n",
       "0         80825  2019-01-31 17:57:44.6130  2019-02-01 16:24:49.8640   \n",
       "1         65900  2019-01-31 20:58:33.8860  2019-02-01 15:16:54.1730   \n",
       "2         62633  2019-01-31 18:06:52.9240  2019-02-01 11:30:46.5300   \n",
       "3         44680  2019-01-31 19:46:09.7190  2019-02-01 08:10:50.3180   \n",
       "4         60709  2019-01-31 14:19:01.5410  2019-02-01 07:10:51.0650   \n",
       "\n",
       "   start_station_id           start_station_name  start_station_latitude  \\\n",
       "0             229.0    Foothill Blvd at 42nd Ave               37.775745   \n",
       "1               4.0  Cyril Magnin St at Ellis St               37.785881   \n",
       "2             245.0       Downtown Berkeley BART               37.870139   \n",
       "3              85.0      Church St at Duboce Ave               37.770083   \n",
       "4              16.0      Steuart St at Market St               37.794130   \n",
       "\n",
       "   start_station_longitude  end_station_id              end_station_name  \\\n",
       "0              -122.213037           196.0       Grand Ave at Perkins St   \n",
       "1              -122.408915           134.0        Valencia St at 24th St   \n",
       "2              -122.268422           157.0          65th St at Hollis St   \n",
       "3              -122.429156            53.0        Grove St at Divisadero   \n",
       "4              -122.394430            28.0  The Embarcadero at Bryant St   \n",
       "\n",
       "   end_station_latitude  end_station_longitude  bike_id   user_type  \\\n",
       "0             37.808894            -122.256460     4861  Subscriber   \n",
       "1             37.752428            -122.420628     5506  Subscriber   \n",
       "2             37.846784            -122.291376     2717    Customer   \n",
       "3             37.775946            -122.437777     4557    Customer   \n",
       "4             37.787168            -122.388098     2100    Customer   \n",
       "\n",
       "   member_birth_year member_gender bike_share_for_all_trip  \n",
       "0             1989.0          Male                      No  \n",
       "1             1989.0          Male                      No  \n",
       "2             1965.0        Female                      No  \n",
       "3             1974.0          Male                      No  \n",
       "4                NaN           NaN                      No  "
      ]
     },
     "execution_count": 3,
     "metadata": {},
     "output_type": "execute_result"
    }
   ],
   "source": [
    "# Given file\n",
    "df1 = pd.read_csv('201901-fordgobike-tripdata.csv')\n",
    "df1.head()"
   ]
  },
  {
   "cell_type": "code",
   "execution_count": 4,
   "metadata": {
    "slideshow": {
     "slide_type": "skip"
    }
   },
   "outputs": [],
   "source": [
    "df2 = pd.read_csv('201902-fordgobike-tripdata.csv')\n",
    "df3 = pd.read_csv('201903-fordgobike-tripdata.csv')\n",
    "df4 = pd.read_csv('201904-fordgobike-tripdata.csv')\n",
    "df5 = pd.read_csv('201905-baywheels-tripdata.csv')"
   ]
  },
  {
   "cell_type": "code",
   "execution_count": 5,
   "metadata": {
    "slideshow": {
     "slide_type": "skip"
    }
   },
   "outputs": [
    {
     "name": "stdout",
     "output_type": "stream",
     "text": [
      "<class 'pandas.core.frame.DataFrame'>\n",
      "Int64Index: 1053067 entries, 0 to 182162\n",
      "Data columns (total 16 columns):\n",
      "duration_sec               1053067 non-null int64\n",
      "start_time                 1053067 non-null object\n",
      "end_time                   1053067 non-null object\n",
      "start_station_id           1052322 non-null float64\n",
      "start_station_name         1052322 non-null object\n",
      "start_station_latitude     1053067 non-null float64\n",
      "start_station_longitude    1053067 non-null float64\n",
      "end_station_id             1052322 non-null float64\n",
      "end_station_name           1052322 non-null object\n",
      "end_station_latitude       1053067 non-null float64\n",
      "end_station_longitude      1053067 non-null float64\n",
      "bike_id                    1053067 non-null int64\n",
      "user_type                  1053067 non-null object\n",
      "member_birth_year          1003691 non-null float64\n",
      "member_gender              1003697 non-null object\n",
      "bike_share_for_all_trip    1053067 non-null object\n",
      "dtypes: float64(7), int64(2), object(7)\n",
      "memory usage: 136.6+ MB\n",
      "None\n"
     ]
    }
   ],
   "source": [
    "# concatenate all 2019 bikeshare DataFrames\n",
    "df = pd.concat([df1, df2, df3, df4, df5])\n",
    "print(df.info())"
   ]
  },
  {
   "cell_type": "code",
   "execution_count": 6,
   "metadata": {
    "slideshow": {
     "slide_type": "skip"
    }
   },
   "outputs": [
    {
     "data": {
      "text/html": [
       "<div>\n",
       "<style scoped>\n",
       "    .dataframe tbody tr th:only-of-type {\n",
       "        vertical-align: middle;\n",
       "    }\n",
       "\n",
       "    .dataframe tbody tr th {\n",
       "        vertical-align: top;\n",
       "    }\n",
       "\n",
       "    .dataframe thead th {\n",
       "        text-align: right;\n",
       "    }\n",
       "</style>\n",
       "<table border=\"1\" class=\"dataframe\">\n",
       "  <thead>\n",
       "    <tr style=\"text-align: right;\">\n",
       "      <th></th>\n",
       "      <th>duration_sec</th>\n",
       "      <th>start_station_id</th>\n",
       "      <th>start_station_latitude</th>\n",
       "      <th>start_station_longitude</th>\n",
       "      <th>end_station_id</th>\n",
       "      <th>end_station_latitude</th>\n",
       "      <th>end_station_longitude</th>\n",
       "      <th>bike_id</th>\n",
       "      <th>member_birth_year</th>\n",
       "    </tr>\n",
       "  </thead>\n",
       "  <tbody>\n",
       "    <tr>\n",
       "      <th>count</th>\n",
       "      <td>1.053067e+06</td>\n",
       "      <td>1.052322e+06</td>\n",
       "      <td>1.053067e+06</td>\n",
       "      <td>1.053067e+06</td>\n",
       "      <td>1.052322e+06</td>\n",
       "      <td>1.053067e+06</td>\n",
       "      <td>1.053067e+06</td>\n",
       "      <td>1.053067e+06</td>\n",
       "      <td>1.003691e+06</td>\n",
       "    </tr>\n",
       "    <tr>\n",
       "      <th>mean</th>\n",
       "      <td>7.793630e+02</td>\n",
       "      <td>1.394330e+02</td>\n",
       "      <td>3.777006e+01</td>\n",
       "      <td>-1.223534e+02</td>\n",
       "      <td>1.378195e+02</td>\n",
       "      <td>3.776961e+01</td>\n",
       "      <td>-1.223510e+02</td>\n",
       "      <td>3.883042e+03</td>\n",
       "      <td>1.984671e+03</td>\n",
       "    </tr>\n",
       "    <tr>\n",
       "      <th>std</th>\n",
       "      <td>1.891006e+03</td>\n",
       "      <td>1.143622e+02</td>\n",
       "      <td>1.069203e-01</td>\n",
       "      <td>1.676838e-01</td>\n",
       "      <td>1.142789e+02</td>\n",
       "      <td>1.855866e-01</td>\n",
       "      <td>5.193068e-01</td>\n",
       "      <td>1.974972e+03</td>\n",
       "      <td>1.010330e+01</td>\n",
       "    </tr>\n",
       "    <tr>\n",
       "      <th>min</th>\n",
       "      <td>6.100000e+01</td>\n",
       "      <td>3.000000e+00</td>\n",
       "      <td>0.000000e+00</td>\n",
       "      <td>-1.224537e+02</td>\n",
       "      <td>3.000000e+00</td>\n",
       "      <td>0.000000e+00</td>\n",
       "      <td>-1.224537e+02</td>\n",
       "      <td>1.100000e+01</td>\n",
       "      <td>1.878000e+03</td>\n",
       "    </tr>\n",
       "    <tr>\n",
       "      <th>25%</th>\n",
       "      <td>3.400000e+02</td>\n",
       "      <td>4.400000e+01</td>\n",
       "      <td>3.777008e+01</td>\n",
       "      <td>-1.224130e+02</td>\n",
       "      <td>4.400000e+01</td>\n",
       "      <td>3.777041e+01</td>\n",
       "      <td>-1.224117e+02</td>\n",
       "      <td>2.165000e+03</td>\n",
       "      <td>1.980000e+03</td>\n",
       "    </tr>\n",
       "    <tr>\n",
       "      <th>50%</th>\n",
       "      <td>5.420000e+02</td>\n",
       "      <td>1.020000e+02</td>\n",
       "      <td>3.778076e+01</td>\n",
       "      <td>-1.223984e+02</td>\n",
       "      <td>1.000000e+02</td>\n",
       "      <td>3.778095e+01</td>\n",
       "      <td>-1.223983e+02</td>\n",
       "      <td>4.549000e+03</td>\n",
       "      <td>1.987000e+03</td>\n",
       "    </tr>\n",
       "    <tr>\n",
       "      <th>75%</th>\n",
       "      <td>8.480000e+02</td>\n",
       "      <td>2.390000e+02</td>\n",
       "      <td>3.779728e+01</td>\n",
       "      <td>-1.222912e+02</td>\n",
       "      <td>2.350000e+02</td>\n",
       "      <td>3.779728e+01</td>\n",
       "      <td>-1.222914e+02</td>\n",
       "      <td>5.428000e+03</td>\n",
       "      <td>1.992000e+03</td>\n",
       "    </tr>\n",
       "    <tr>\n",
       "      <th>max</th>\n",
       "      <td>8.611400e+04</td>\n",
       "      <td>4.270000e+02</td>\n",
       "      <td>3.788022e+01</td>\n",
       "      <td>0.000000e+00</td>\n",
       "      <td>4.270000e+02</td>\n",
       "      <td>3.788022e+01</td>\n",
       "      <td>0.000000e+00</td>\n",
       "      <td>7.196000e+03</td>\n",
       "      <td>2.001000e+03</td>\n",
       "    </tr>\n",
       "  </tbody>\n",
       "</table>\n",
       "</div>"
      ],
      "text/plain": [
       "       duration_sec  start_station_id  start_station_latitude  \\\n",
       "count  1.053067e+06      1.052322e+06            1.053067e+06   \n",
       "mean   7.793630e+02      1.394330e+02            3.777006e+01   \n",
       "std    1.891006e+03      1.143622e+02            1.069203e-01   \n",
       "min    6.100000e+01      3.000000e+00            0.000000e+00   \n",
       "25%    3.400000e+02      4.400000e+01            3.777008e+01   \n",
       "50%    5.420000e+02      1.020000e+02            3.778076e+01   \n",
       "75%    8.480000e+02      2.390000e+02            3.779728e+01   \n",
       "max    8.611400e+04      4.270000e+02            3.788022e+01   \n",
       "\n",
       "       start_station_longitude  end_station_id  end_station_latitude  \\\n",
       "count             1.053067e+06    1.052322e+06          1.053067e+06   \n",
       "mean             -1.223534e+02    1.378195e+02          3.776961e+01   \n",
       "std               1.676838e-01    1.142789e+02          1.855866e-01   \n",
       "min              -1.224537e+02    3.000000e+00          0.000000e+00   \n",
       "25%              -1.224130e+02    4.400000e+01          3.777041e+01   \n",
       "50%              -1.223984e+02    1.000000e+02          3.778095e+01   \n",
       "75%              -1.222912e+02    2.350000e+02          3.779728e+01   \n",
       "max               0.000000e+00    4.270000e+02          3.788022e+01   \n",
       "\n",
       "       end_station_longitude       bike_id  member_birth_year  \n",
       "count           1.053067e+06  1.053067e+06       1.003691e+06  \n",
       "mean           -1.223510e+02  3.883042e+03       1.984671e+03  \n",
       "std             5.193068e-01  1.974972e+03       1.010330e+01  \n",
       "min            -1.224537e+02  1.100000e+01       1.878000e+03  \n",
       "25%            -1.224117e+02  2.165000e+03       1.980000e+03  \n",
       "50%            -1.223983e+02  4.549000e+03       1.987000e+03  \n",
       "75%            -1.222914e+02  5.428000e+03       1.992000e+03  \n",
       "max             0.000000e+00  7.196000e+03       2.001000e+03  "
      ]
     },
     "execution_count": 6,
     "metadata": {},
     "output_type": "execute_result"
    }
   ],
   "source": [
    "df.describe()"
   ]
  },
  {
   "cell_type": "code",
   "execution_count": 7,
   "metadata": {
    "scrolled": true,
    "slideshow": {
     "slide_type": "skip"
    }
   },
   "outputs": [
    {
     "data": {
      "text/html": [
       "<div>\n",
       "<style scoped>\n",
       "    .dataframe tbody tr th:only-of-type {\n",
       "        vertical-align: middle;\n",
       "    }\n",
       "\n",
       "    .dataframe tbody tr th {\n",
       "        vertical-align: top;\n",
       "    }\n",
       "\n",
       "    .dataframe thead th {\n",
       "        text-align: right;\n",
       "    }\n",
       "</style>\n",
       "<table border=\"1\" class=\"dataframe\">\n",
       "  <thead>\n",
       "    <tr style=\"text-align: right;\">\n",
       "      <th></th>\n",
       "      <th>duration_sec</th>\n",
       "      <th>start_time</th>\n",
       "      <th>end_time</th>\n",
       "      <th>start_station_id</th>\n",
       "      <th>start_station_name</th>\n",
       "      <th>start_station_latitude</th>\n",
       "      <th>start_station_longitude</th>\n",
       "      <th>end_station_id</th>\n",
       "      <th>end_station_name</th>\n",
       "      <th>end_station_latitude</th>\n",
       "      <th>end_station_longitude</th>\n",
       "      <th>bike_id</th>\n",
       "      <th>user_type</th>\n",
       "      <th>member_birth_year</th>\n",
       "      <th>member_gender</th>\n",
       "      <th>bike_share_for_all_trip</th>\n",
       "    </tr>\n",
       "  </thead>\n",
       "  <tbody>\n",
       "    <tr>\n",
       "      <th>151000</th>\n",
       "      <td>689</td>\n",
       "      <td>2019-01-09 13:15:40.6880</td>\n",
       "      <td>2019-01-09 13:27:10.0000</td>\n",
       "      <td>52.0</td>\n",
       "      <td>McAllister St at Baker St</td>\n",
       "      <td>37.777416</td>\n",
       "      <td>-122.441838</td>\n",
       "      <td>86.0</td>\n",
       "      <td>Market St at Dolores St</td>\n",
       "      <td>37.769305</td>\n",
       "      <td>-122.426826</td>\n",
       "      <td>444</td>\n",
       "      <td>Subscriber</td>\n",
       "      <td>1974.0</td>\n",
       "      <td>Male</td>\n",
       "      <td>Yes</td>\n",
       "    </tr>\n",
       "    <tr>\n",
       "      <th>4183</th>\n",
       "      <td>543</td>\n",
       "      <td>2019-01-31 16:15:35.5930</td>\n",
       "      <td>2019-01-31 16:24:39.4360</td>\n",
       "      <td>43.0</td>\n",
       "      <td>San Francisco Public Library (Grove St at Hyde...</td>\n",
       "      <td>37.778768</td>\n",
       "      <td>-122.415929</td>\n",
       "      <td>67.0</td>\n",
       "      <td>San Francisco Caltrain Station 2  (Townsend St...</td>\n",
       "      <td>37.776639</td>\n",
       "      <td>-122.395526</td>\n",
       "      <td>757</td>\n",
       "      <td>Subscriber</td>\n",
       "      <td>1968.0</td>\n",
       "      <td>Male</td>\n",
       "      <td>No</td>\n",
       "    </tr>\n",
       "    <tr>\n",
       "      <th>4870</th>\n",
       "      <td>305</td>\n",
       "      <td>2019-03-31 12:34:38.3000</td>\n",
       "      <td>2019-03-31 12:39:44.0380</td>\n",
       "      <td>33.0</td>\n",
       "      <td>Golden Gate Ave at Hyde St</td>\n",
       "      <td>37.781650</td>\n",
       "      <td>-122.415408</td>\n",
       "      <td>43.0</td>\n",
       "      <td>San Francisco Public Library (Grove St at Hyde...</td>\n",
       "      <td>37.778768</td>\n",
       "      <td>-122.415929</td>\n",
       "      <td>6945</td>\n",
       "      <td>Subscriber</td>\n",
       "      <td>1957.0</td>\n",
       "      <td>Male</td>\n",
       "      <td>No</td>\n",
       "    </tr>\n",
       "    <tr>\n",
       "      <th>8162</th>\n",
       "      <td>905</td>\n",
       "      <td>2019-01-31 08:16:58.0980</td>\n",
       "      <td>2019-01-31 08:32:03.5770</td>\n",
       "      <td>130.0</td>\n",
       "      <td>22nd St Caltrain Station</td>\n",
       "      <td>37.757718</td>\n",
       "      <td>-122.391813</td>\n",
       "      <td>19.0</td>\n",
       "      <td>Post St at Kearny St</td>\n",
       "      <td>37.788975</td>\n",
       "      <td>-122.403452</td>\n",
       "      <td>5522</td>\n",
       "      <td>Subscriber</td>\n",
       "      <td>1994.0</td>\n",
       "      <td>Male</td>\n",
       "      <td>No</td>\n",
       "    </tr>\n",
       "    <tr>\n",
       "      <th>136501</th>\n",
       "      <td>1188</td>\n",
       "      <td>2019-05-08 08:32:35.0010</td>\n",
       "      <td>2019-05-08 08:52:23.3360</td>\n",
       "      <td>55.0</td>\n",
       "      <td>Webster St at Grove St</td>\n",
       "      <td>37.777053</td>\n",
       "      <td>-122.429558</td>\n",
       "      <td>104.0</td>\n",
       "      <td>4th St at 16th St</td>\n",
       "      <td>37.767045</td>\n",
       "      <td>-122.390833</td>\n",
       "      <td>1245</td>\n",
       "      <td>Subscriber</td>\n",
       "      <td>1987.0</td>\n",
       "      <td>Female</td>\n",
       "      <td>No</td>\n",
       "    </tr>\n",
       "    <tr>\n",
       "      <th>48288</th>\n",
       "      <td>402</td>\n",
       "      <td>2019-05-23 15:16:33.8890</td>\n",
       "      <td>2019-05-23 15:23:16.5380</td>\n",
       "      <td>81.0</td>\n",
       "      <td>Berry St at 4th St</td>\n",
       "      <td>37.775880</td>\n",
       "      <td>-122.393170</td>\n",
       "      <td>343.0</td>\n",
       "      <td>Bryant St at 2nd St</td>\n",
       "      <td>37.783172</td>\n",
       "      <td>-122.393572</td>\n",
       "      <td>2820</td>\n",
       "      <td>Subscriber</td>\n",
       "      <td>1977.0</td>\n",
       "      <td>Female</td>\n",
       "      <td>No</td>\n",
       "    </tr>\n",
       "    <tr>\n",
       "      <th>114068</th>\n",
       "      <td>695</td>\n",
       "      <td>2019-03-18 18:31:37.6520</td>\n",
       "      <td>2019-03-18 18:43:13.2930</td>\n",
       "      <td>355.0</td>\n",
       "      <td>23rd St at Tennessee St</td>\n",
       "      <td>37.755367</td>\n",
       "      <td>-122.388795</td>\n",
       "      <td>147.0</td>\n",
       "      <td>29th St at Tiffany Ave</td>\n",
       "      <td>37.744067</td>\n",
       "      <td>-122.421472</td>\n",
       "      <td>4831</td>\n",
       "      <td>Subscriber</td>\n",
       "      <td>NaN</td>\n",
       "      <td>NaN</td>\n",
       "      <td>No</td>\n",
       "    </tr>\n",
       "    <tr>\n",
       "      <th>103034</th>\n",
       "      <td>312</td>\n",
       "      <td>2019-03-19 18:16:58.4240</td>\n",
       "      <td>2019-03-19 18:22:10.8990</td>\n",
       "      <td>37.0</td>\n",
       "      <td>2nd St at Folsom St</td>\n",
       "      <td>37.785377</td>\n",
       "      <td>-122.396906</td>\n",
       "      <td>81.0</td>\n",
       "      <td>Berry St at 4th St</td>\n",
       "      <td>37.775880</td>\n",
       "      <td>-122.393170</td>\n",
       "      <td>6743</td>\n",
       "      <td>Subscriber</td>\n",
       "      <td>1982.0</td>\n",
       "      <td>Male</td>\n",
       "      <td>No</td>\n",
       "    </tr>\n",
       "    <tr>\n",
       "      <th>138500</th>\n",
       "      <td>171</td>\n",
       "      <td>2019-04-11 07:47:05.4910</td>\n",
       "      <td>2019-04-11 07:49:57.1180</td>\n",
       "      <td>112.0</td>\n",
       "      <td>Harrison St at 17th St</td>\n",
       "      <td>37.763847</td>\n",
       "      <td>-122.413004</td>\n",
       "      <td>114.0</td>\n",
       "      <td>Rhode Island St at 17th St</td>\n",
       "      <td>37.764478</td>\n",
       "      <td>-122.402570</td>\n",
       "      <td>4810</td>\n",
       "      <td>Subscriber</td>\n",
       "      <td>1978.0</td>\n",
       "      <td>Male</td>\n",
       "      <td>No</td>\n",
       "    </tr>\n",
       "    <tr>\n",
       "      <th>154027</th>\n",
       "      <td>770</td>\n",
       "      <td>2019-05-05 14:42:18.6280</td>\n",
       "      <td>2019-05-05 14:55:09.6070</td>\n",
       "      <td>134.0</td>\n",
       "      <td>Valencia St at 24th St</td>\n",
       "      <td>37.752428</td>\n",
       "      <td>-122.420628</td>\n",
       "      <td>76.0</td>\n",
       "      <td>McCoppin St at Valencia St</td>\n",
       "      <td>37.771662</td>\n",
       "      <td>-122.422423</td>\n",
       "      <td>357</td>\n",
       "      <td>Subscriber</td>\n",
       "      <td>1991.0</td>\n",
       "      <td>Female</td>\n",
       "      <td>No</td>\n",
       "    </tr>\n",
       "  </tbody>\n",
       "</table>\n",
       "</div>"
      ],
      "text/plain": [
       "        duration_sec                start_time                  end_time  \\\n",
       "151000           689  2019-01-09 13:15:40.6880  2019-01-09 13:27:10.0000   \n",
       "4183             543  2019-01-31 16:15:35.5930  2019-01-31 16:24:39.4360   \n",
       "4870             305  2019-03-31 12:34:38.3000  2019-03-31 12:39:44.0380   \n",
       "8162             905  2019-01-31 08:16:58.0980  2019-01-31 08:32:03.5770   \n",
       "136501          1188  2019-05-08 08:32:35.0010  2019-05-08 08:52:23.3360   \n",
       "48288            402  2019-05-23 15:16:33.8890  2019-05-23 15:23:16.5380   \n",
       "114068           695  2019-03-18 18:31:37.6520  2019-03-18 18:43:13.2930   \n",
       "103034           312  2019-03-19 18:16:58.4240  2019-03-19 18:22:10.8990   \n",
       "138500           171  2019-04-11 07:47:05.4910  2019-04-11 07:49:57.1180   \n",
       "154027           770  2019-05-05 14:42:18.6280  2019-05-05 14:55:09.6070   \n",
       "\n",
       "        start_station_id                                 start_station_name  \\\n",
       "151000              52.0                          McAllister St at Baker St   \n",
       "4183                43.0  San Francisco Public Library (Grove St at Hyde...   \n",
       "4870                33.0                         Golden Gate Ave at Hyde St   \n",
       "8162               130.0                           22nd St Caltrain Station   \n",
       "136501              55.0                             Webster St at Grove St   \n",
       "48288               81.0                                 Berry St at 4th St   \n",
       "114068             355.0                            23rd St at Tennessee St   \n",
       "103034              37.0                                2nd St at Folsom St   \n",
       "138500             112.0                             Harrison St at 17th St   \n",
       "154027             134.0                             Valencia St at 24th St   \n",
       "\n",
       "        start_station_latitude  start_station_longitude  end_station_id  \\\n",
       "151000               37.777416              -122.441838            86.0   \n",
       "4183                 37.778768              -122.415929            67.0   \n",
       "4870                 37.781650              -122.415408            43.0   \n",
       "8162                 37.757718              -122.391813            19.0   \n",
       "136501               37.777053              -122.429558           104.0   \n",
       "48288                37.775880              -122.393170           343.0   \n",
       "114068               37.755367              -122.388795           147.0   \n",
       "103034               37.785377              -122.396906            81.0   \n",
       "138500               37.763847              -122.413004           114.0   \n",
       "154027               37.752428              -122.420628            76.0   \n",
       "\n",
       "                                         end_station_name  \\\n",
       "151000                            Market St at Dolores St   \n",
       "4183    San Francisco Caltrain Station 2  (Townsend St...   \n",
       "4870    San Francisco Public Library (Grove St at Hyde...   \n",
       "8162                                 Post St at Kearny St   \n",
       "136501                                  4th St at 16th St   \n",
       "48288                                 Bryant St at 2nd St   \n",
       "114068                             29th St at Tiffany Ave   \n",
       "103034                                 Berry St at 4th St   \n",
       "138500                         Rhode Island St at 17th St   \n",
       "154027                         McCoppin St at Valencia St   \n",
       "\n",
       "        end_station_latitude  end_station_longitude  bike_id   user_type  \\\n",
       "151000             37.769305            -122.426826      444  Subscriber   \n",
       "4183               37.776639            -122.395526      757  Subscriber   \n",
       "4870               37.778768            -122.415929     6945  Subscriber   \n",
       "8162               37.788975            -122.403452     5522  Subscriber   \n",
       "136501             37.767045            -122.390833     1245  Subscriber   \n",
       "48288              37.783172            -122.393572     2820  Subscriber   \n",
       "114068             37.744067            -122.421472     4831  Subscriber   \n",
       "103034             37.775880            -122.393170     6743  Subscriber   \n",
       "138500             37.764478            -122.402570     4810  Subscriber   \n",
       "154027             37.771662            -122.422423      357  Subscriber   \n",
       "\n",
       "        member_birth_year member_gender bike_share_for_all_trip  \n",
       "151000             1974.0          Male                     Yes  \n",
       "4183               1968.0          Male                      No  \n",
       "4870               1957.0          Male                      No  \n",
       "8162               1994.0          Male                      No  \n",
       "136501             1987.0        Female                      No  \n",
       "48288              1977.0        Female                      No  \n",
       "114068                NaN           NaN                      No  \n",
       "103034             1982.0          Male                      No  \n",
       "138500             1978.0          Male                      No  \n",
       "154027             1991.0        Female                      No  "
      ]
     },
     "execution_count": 7,
     "metadata": {},
     "output_type": "execute_result"
    }
   ],
   "source": [
    "df.sample(10)"
   ]
  },
  {
   "cell_type": "code",
   "execution_count": 8,
   "metadata": {
    "slideshow": {
     "slide_type": "skip"
    }
   },
   "outputs": [
    {
     "name": "stdout",
     "output_type": "stream",
     "text": [
      "0\n",
      "duration_sec                 10619\n",
      "start_time                 1052985\n",
      "end_time                   1052985\n",
      "start_station_id               369\n",
      "start_station_name             370\n",
      "start_station_latitude         380\n",
      "start_station_longitude        383\n",
      "end_station_id                 369\n",
      "end_station_name               370\n",
      "end_station_latitude           381\n",
      "end_station_longitude          384\n",
      "bike_id                       5672\n",
      "user_type                        2\n",
      "member_birth_year               84\n",
      "member_gender                    3\n",
      "bike_share_for_all_trip          2\n",
      "dtype: int64\n"
     ]
    }
   ],
   "source": [
    "# see if there is duplictaed columns\n",
    "print(sum(df.duplicated()))\n",
    "print(df.nunique())"
   ]
  },
  {
   "cell_type": "markdown",
   "metadata": {
    "slideshow": {
     "slide_type": "skip"
    }
   },
   "source": [
    "#### <a id='assessing'></a>\n",
    "## 2. Data Assessing"
   ]
  },
  {
   "cell_type": "markdown",
   "metadata": {
    "slideshow": {
     "slide_type": "skip"
    }
   },
   "source": [
    "#### Quality"
   ]
  },
  {
   "cell_type": "markdown",
   "metadata": {
    "slideshow": {
     "slide_type": "skip"
    }
   },
   "source": [
    "1. start time and end time should be datetime dtype. \n",
    "2. Change user type, gender and bike_share_for_all_trip dtype to category and change bike id, start_station_id, end_station_id dtype as object\n",
    "3. There is a member who was born in 1878..\n",
    "4. We can create a new column for 'age' of each member\n",
    "5. Create the 'distance' column between stations\n",
    "6. Delte 0 value of start_station_latitude, start_station_longitude, end_station_latitude,end_station_longitude    "
   ]
  },
  {
   "cell_type": "markdown",
   "metadata": {
    "slideshow": {
     "slide_type": "skip"
    }
   },
   "source": [
    "#### <a id='cleaning'></a>\n",
    "## 3. Data Cleaning"
   ]
  },
  {
   "cell_type": "code",
   "execution_count": 9,
   "metadata": {
    "slideshow": {
     "slide_type": "skip"
    }
   },
   "outputs": [
    {
     "data": {
      "text/html": [
       "<div>\n",
       "<style scoped>\n",
       "    .dataframe tbody tr th:only-of-type {\n",
       "        vertical-align: middle;\n",
       "    }\n",
       "\n",
       "    .dataframe tbody tr th {\n",
       "        vertical-align: top;\n",
       "    }\n",
       "\n",
       "    .dataframe thead th {\n",
       "        text-align: right;\n",
       "    }\n",
       "</style>\n",
       "<table border=\"1\" class=\"dataframe\">\n",
       "  <thead>\n",
       "    <tr style=\"text-align: right;\">\n",
       "      <th></th>\n",
       "      <th>duration_sec</th>\n",
       "      <th>start_time</th>\n",
       "      <th>end_time</th>\n",
       "      <th>start_station_id</th>\n",
       "      <th>start_station_name</th>\n",
       "      <th>start_station_latitude</th>\n",
       "      <th>start_station_longitude</th>\n",
       "      <th>end_station_id</th>\n",
       "      <th>end_station_name</th>\n",
       "      <th>end_station_latitude</th>\n",
       "      <th>end_station_longitude</th>\n",
       "      <th>bike_id</th>\n",
       "      <th>user_type</th>\n",
       "      <th>member_birth_year</th>\n",
       "      <th>member_gender</th>\n",
       "      <th>bike_share_for_all_trip</th>\n",
       "    </tr>\n",
       "  </thead>\n",
       "  <tbody>\n",
       "    <tr>\n",
       "      <th>0</th>\n",
       "      <td>80825</td>\n",
       "      <td>2019-01-31 17:57:44.6130</td>\n",
       "      <td>2019-02-01 16:24:49.8640</td>\n",
       "      <td>229.0</td>\n",
       "      <td>Foothill Blvd at 42nd Ave</td>\n",
       "      <td>37.775745</td>\n",
       "      <td>-122.213037</td>\n",
       "      <td>196.0</td>\n",
       "      <td>Grand Ave at Perkins St</td>\n",
       "      <td>37.808894</td>\n",
       "      <td>-122.256460</td>\n",
       "      <td>4861</td>\n",
       "      <td>Subscriber</td>\n",
       "      <td>1989.0</td>\n",
       "      <td>Male</td>\n",
       "      <td>No</td>\n",
       "    </tr>\n",
       "    <tr>\n",
       "      <th>1</th>\n",
       "      <td>65900</td>\n",
       "      <td>2019-01-31 20:58:33.8860</td>\n",
       "      <td>2019-02-01 15:16:54.1730</td>\n",
       "      <td>4.0</td>\n",
       "      <td>Cyril Magnin St at Ellis St</td>\n",
       "      <td>37.785881</td>\n",
       "      <td>-122.408915</td>\n",
       "      <td>134.0</td>\n",
       "      <td>Valencia St at 24th St</td>\n",
       "      <td>37.752428</td>\n",
       "      <td>-122.420628</td>\n",
       "      <td>5506</td>\n",
       "      <td>Subscriber</td>\n",
       "      <td>1989.0</td>\n",
       "      <td>Male</td>\n",
       "      <td>No</td>\n",
       "    </tr>\n",
       "    <tr>\n",
       "      <th>2</th>\n",
       "      <td>62633</td>\n",
       "      <td>2019-01-31 18:06:52.9240</td>\n",
       "      <td>2019-02-01 11:30:46.5300</td>\n",
       "      <td>245.0</td>\n",
       "      <td>Downtown Berkeley BART</td>\n",
       "      <td>37.870139</td>\n",
       "      <td>-122.268422</td>\n",
       "      <td>157.0</td>\n",
       "      <td>65th St at Hollis St</td>\n",
       "      <td>37.846784</td>\n",
       "      <td>-122.291376</td>\n",
       "      <td>2717</td>\n",
       "      <td>Customer</td>\n",
       "      <td>1965.0</td>\n",
       "      <td>Female</td>\n",
       "      <td>No</td>\n",
       "    </tr>\n",
       "    <tr>\n",
       "      <th>3</th>\n",
       "      <td>44680</td>\n",
       "      <td>2019-01-31 19:46:09.7190</td>\n",
       "      <td>2019-02-01 08:10:50.3180</td>\n",
       "      <td>85.0</td>\n",
       "      <td>Church St at Duboce Ave</td>\n",
       "      <td>37.770083</td>\n",
       "      <td>-122.429156</td>\n",
       "      <td>53.0</td>\n",
       "      <td>Grove St at Divisadero</td>\n",
       "      <td>37.775946</td>\n",
       "      <td>-122.437777</td>\n",
       "      <td>4557</td>\n",
       "      <td>Customer</td>\n",
       "      <td>1974.0</td>\n",
       "      <td>Male</td>\n",
       "      <td>No</td>\n",
       "    </tr>\n",
       "    <tr>\n",
       "      <th>4</th>\n",
       "      <td>60709</td>\n",
       "      <td>2019-01-31 14:19:01.5410</td>\n",
       "      <td>2019-02-01 07:10:51.0650</td>\n",
       "      <td>16.0</td>\n",
       "      <td>Steuart St at Market St</td>\n",
       "      <td>37.794130</td>\n",
       "      <td>-122.394430</td>\n",
       "      <td>28.0</td>\n",
       "      <td>The Embarcadero at Bryant St</td>\n",
       "      <td>37.787168</td>\n",
       "      <td>-122.388098</td>\n",
       "      <td>2100</td>\n",
       "      <td>Customer</td>\n",
       "      <td>NaN</td>\n",
       "      <td>NaN</td>\n",
       "      <td>No</td>\n",
       "    </tr>\n",
       "  </tbody>\n",
       "</table>\n",
       "</div>"
      ],
      "text/plain": [
       "   duration_sec                start_time                  end_time  \\\n",
       "0         80825  2019-01-31 17:57:44.6130  2019-02-01 16:24:49.8640   \n",
       "1         65900  2019-01-31 20:58:33.8860  2019-02-01 15:16:54.1730   \n",
       "2         62633  2019-01-31 18:06:52.9240  2019-02-01 11:30:46.5300   \n",
       "3         44680  2019-01-31 19:46:09.7190  2019-02-01 08:10:50.3180   \n",
       "4         60709  2019-01-31 14:19:01.5410  2019-02-01 07:10:51.0650   \n",
       "\n",
       "   start_station_id           start_station_name  start_station_latitude  \\\n",
       "0             229.0    Foothill Blvd at 42nd Ave               37.775745   \n",
       "1               4.0  Cyril Magnin St at Ellis St               37.785881   \n",
       "2             245.0       Downtown Berkeley BART               37.870139   \n",
       "3              85.0      Church St at Duboce Ave               37.770083   \n",
       "4              16.0      Steuart St at Market St               37.794130   \n",
       "\n",
       "   start_station_longitude  end_station_id              end_station_name  \\\n",
       "0              -122.213037           196.0       Grand Ave at Perkins St   \n",
       "1              -122.408915           134.0        Valencia St at 24th St   \n",
       "2              -122.268422           157.0          65th St at Hollis St   \n",
       "3              -122.429156            53.0        Grove St at Divisadero   \n",
       "4              -122.394430            28.0  The Embarcadero at Bryant St   \n",
       "\n",
       "   end_station_latitude  end_station_longitude  bike_id   user_type  \\\n",
       "0             37.808894            -122.256460     4861  Subscriber   \n",
       "1             37.752428            -122.420628     5506  Subscriber   \n",
       "2             37.846784            -122.291376     2717    Customer   \n",
       "3             37.775946            -122.437777     4557    Customer   \n",
       "4             37.787168            -122.388098     2100    Customer   \n",
       "\n",
       "   member_birth_year member_gender bike_share_for_all_trip  \n",
       "0             1989.0          Male                      No  \n",
       "1             1989.0          Male                      No  \n",
       "2             1965.0        Female                      No  \n",
       "3             1974.0          Male                      No  \n",
       "4                NaN           NaN                      No  "
      ]
     },
     "execution_count": 9,
     "metadata": {},
     "output_type": "execute_result"
    }
   ],
   "source": [
    "# Create copies of original DataFrames to work off of\n",
    "df_copy = df.copy()\n",
    "df_copy.head()"
   ]
  },
  {
   "cell_type": "markdown",
   "metadata": {
    "slideshow": {
     "slide_type": "skip"
    }
   },
   "source": [
    "**Define**\n",
    "\n",
    "1. start time and end time should be datetime dtype. "
   ]
  },
  {
   "cell_type": "markdown",
   "metadata": {
    "slideshow": {
     "slide_type": "skip"
    }
   },
   "source": [
    "**Code**"
   ]
  },
  {
   "cell_type": "code",
   "execution_count": 10,
   "metadata": {
    "slideshow": {
     "slide_type": "skip"
    }
   },
   "outputs": [],
   "source": [
    "df_copy['start_time'] = pd.to_datetime(df_copy['start_time'])\n",
    "df_copy['end_time'] = pd.to_datetime(df_copy['end_time'])"
   ]
  },
  {
   "cell_type": "markdown",
   "metadata": {
    "slideshow": {
     "slide_type": "skip"
    }
   },
   "source": [
    "**Test**"
   ]
  },
  {
   "cell_type": "code",
   "execution_count": 11,
   "metadata": {
    "slideshow": {
     "slide_type": "skip"
    }
   },
   "outputs": [
    {
     "name": "stdout",
     "output_type": "stream",
     "text": [
      "<class 'pandas.core.frame.DataFrame'>\n",
      "Int64Index: 1053067 entries, 0 to 182162\n",
      "Data columns (total 16 columns):\n",
      "duration_sec               1053067 non-null int64\n",
      "start_time                 1053067 non-null datetime64[ns]\n",
      "end_time                   1053067 non-null datetime64[ns]\n",
      "start_station_id           1052322 non-null float64\n",
      "start_station_name         1052322 non-null object\n",
      "start_station_latitude     1053067 non-null float64\n",
      "start_station_longitude    1053067 non-null float64\n",
      "end_station_id             1052322 non-null float64\n",
      "end_station_name           1052322 non-null object\n",
      "end_station_latitude       1053067 non-null float64\n",
      "end_station_longitude      1053067 non-null float64\n",
      "bike_id                    1053067 non-null int64\n",
      "user_type                  1053067 non-null object\n",
      "member_birth_year          1003691 non-null float64\n",
      "member_gender              1003697 non-null object\n",
      "bike_share_for_all_trip    1053067 non-null object\n",
      "dtypes: datetime64[ns](2), float64(7), int64(2), object(5)\n",
      "memory usage: 136.6+ MB\n"
     ]
    }
   ],
   "source": [
    "df_copy.info()"
   ]
  },
  {
   "cell_type": "markdown",
   "metadata": {
    "slideshow": {
     "slide_type": "skip"
    }
   },
   "source": [
    "**Define**\n",
    "\n",
    "  2-A. change user type, gender and bike_share_for_all_trip dtype to category; change member_birth_year to integer \n",
    "\n",
    "  2-B. change bike id, start_station_id, end_station_id dtype as object"
   ]
  },
  {
   "cell_type": "markdown",
   "metadata": {
    "slideshow": {
     "slide_type": "skip"
    }
   },
   "source": [
    "**Code**"
   ]
  },
  {
   "cell_type": "code",
   "execution_count": 12,
   "metadata": {
    "slideshow": {
     "slide_type": "skip"
    }
   },
   "outputs": [],
   "source": [
    "df_copy['user_type'] = df_copy['user_type'].astype('category')\n",
    "df_copy['member_gender'] = df_copy['member_gender'].astype('category')\n",
    "df_copy['bike_share_for_all_trip'] = df_copy['bike_share_for_all_trip'].astype('category')\n",
    "df_copy.bike_id = df_copy.bike_id.astype(str)\n",
    "df_copy.start_station_id = df_copy.start_station_id.astype(str)\n",
    "df_copy.end_station_id = df_copy.end_station_id.astype(str)"
   ]
  },
  {
   "cell_type": "markdown",
   "metadata": {
    "slideshow": {
     "slide_type": "skip"
    }
   },
   "source": [
    "**Test**"
   ]
  },
  {
   "cell_type": "code",
   "execution_count": 13,
   "metadata": {
    "slideshow": {
     "slide_type": "skip"
    }
   },
   "outputs": [
    {
     "name": "stdout",
     "output_type": "stream",
     "text": [
      "<class 'pandas.core.frame.DataFrame'>\n",
      "Int64Index: 1053067 entries, 0 to 182162\n",
      "Data columns (total 16 columns):\n",
      "duration_sec               1053067 non-null int64\n",
      "start_time                 1053067 non-null datetime64[ns]\n",
      "end_time                   1053067 non-null datetime64[ns]\n",
      "start_station_id           1053067 non-null object\n",
      "start_station_name         1052322 non-null object\n",
      "start_station_latitude     1053067 non-null float64\n",
      "start_station_longitude    1053067 non-null float64\n",
      "end_station_id             1053067 non-null object\n",
      "end_station_name           1052322 non-null object\n",
      "end_station_latitude       1053067 non-null float64\n",
      "end_station_longitude      1053067 non-null float64\n",
      "bike_id                    1053067 non-null object\n",
      "user_type                  1053067 non-null category\n",
      "member_birth_year          1003691 non-null float64\n",
      "member_gender              1003697 non-null category\n",
      "bike_share_for_all_trip    1053067 non-null category\n",
      "dtypes: category(3), datetime64[ns](2), float64(5), int64(1), object(5)\n",
      "memory usage: 115.5+ MB\n"
     ]
    }
   ],
   "source": [
    "df_copy.info()"
   ]
  },
  {
   "cell_type": "markdown",
   "metadata": {
    "slideshow": {
     "slide_type": "skip"
    }
   },
   "source": [
    "**Define**\n",
    "3. There is a member who was born in 1878. We need to delete those columns with unrealistic ages.\n",
    "\n",
    "    According to Wikipedia, since the death of 113-year-old Masazō Nonaka of Japan on 20 January 2019, 113-year-old Gustav Gerneth of Germany, born 15 October **1905**, is the world's oldest living man.\n",
    "    https://en.wikipedia.org/wiki/Oldest_people"
   ]
  },
  {
   "cell_type": "code",
   "execution_count": null,
   "metadata": {
    "slideshow": {
     "slide_type": "skip"
    }
   },
   "outputs": [],
   "source": []
  },
  {
   "cell_type": "markdown",
   "metadata": {
    "slideshow": {
     "slide_type": "skip"
    }
   },
   "source": [
    "**Code**"
   ]
  },
  {
   "cell_type": "code",
   "execution_count": 14,
   "metadata": {
    "slideshow": {
     "slide_type": "skip"
    }
   },
   "outputs": [
    {
     "data": {
      "text/plain": [
       "duration_sec               432\n",
       "start_time                 432\n",
       "end_time                   432\n",
       "start_station_id           432\n",
       "start_station_name         432\n",
       "start_station_latitude     432\n",
       "start_station_longitude    432\n",
       "end_station_id             432\n",
       "end_station_name           432\n",
       "end_station_latitude       432\n",
       "end_station_longitude      432\n",
       "bike_id                    432\n",
       "user_type                  432\n",
       "member_birth_year          432\n",
       "member_gender              432\n",
       "bike_share_for_all_trip    432\n",
       "dtype: int64"
      ]
     },
     "execution_count": 14,
     "metadata": {},
     "output_type": "execute_result"
    }
   ],
   "source": [
    "# check there are 432 people with unrealistic ages\n",
    "\n",
    "unreal_ages = df.query('member_birth_year < 1905')\n",
    "unreal_ages.count()"
   ]
  },
  {
   "cell_type": "code",
   "execution_count": 15,
   "metadata": {
    "slideshow": {
     "slide_type": "skip"
    }
   },
   "outputs": [],
   "source": [
    "# delte all rows with member_birth_year less than 1905\n",
    "df_copy = df_copy[df_copy['member_birth_year'] > 1905]"
   ]
  },
  {
   "cell_type": "markdown",
   "metadata": {
    "slideshow": {
     "slide_type": "skip"
    }
   },
   "source": [
    "**Test**"
   ]
  },
  {
   "cell_type": "code",
   "execution_count": 16,
   "metadata": {
    "scrolled": true,
    "slideshow": {
     "slide_type": "skip"
    }
   },
   "outputs": [],
   "source": [
    "df_copy[df_copy['member_birth_year']<1905].count()\n",
    "df_copy['member_birth_year'] = df_copy['member_birth_year'].astype('int')"
   ]
  },
  {
   "cell_type": "markdown",
   "metadata": {
    "slideshow": {
     "slide_type": "skip"
    }
   },
   "source": [
    "**Define**\n",
    "\n",
    "4. We can create a new column for 'age' of each member by subtracting 'member_birth_year' column from 2019"
   ]
  },
  {
   "cell_type": "markdown",
   "metadata": {
    "slideshow": {
     "slide_type": "skip"
    }
   },
   "source": [
    "**Code**"
   ]
  },
  {
   "cell_type": "code",
   "execution_count": 17,
   "metadata": {
    "slideshow": {
     "slide_type": "skip"
    }
   },
   "outputs": [],
   "source": [
    "df_copy['age'] = 2019 - df_copy.member_birth_year"
   ]
  },
  {
   "cell_type": "markdown",
   "metadata": {
    "slideshow": {
     "slide_type": "skip"
    }
   },
   "source": [
    "**Test**"
   ]
  },
  {
   "cell_type": "code",
   "execution_count": 18,
   "metadata": {
    "scrolled": true,
    "slideshow": {
     "slide_type": "skip"
    }
   },
   "outputs": [
    {
     "data": {
      "text/html": [
       "<div>\n",
       "<style scoped>\n",
       "    .dataframe tbody tr th:only-of-type {\n",
       "        vertical-align: middle;\n",
       "    }\n",
       "\n",
       "    .dataframe tbody tr th {\n",
       "        vertical-align: top;\n",
       "    }\n",
       "\n",
       "    .dataframe thead th {\n",
       "        text-align: right;\n",
       "    }\n",
       "</style>\n",
       "<table border=\"1\" class=\"dataframe\">\n",
       "  <thead>\n",
       "    <tr style=\"text-align: right;\">\n",
       "      <th></th>\n",
       "      <th>duration_sec</th>\n",
       "      <th>start_time</th>\n",
       "      <th>end_time</th>\n",
       "      <th>start_station_id</th>\n",
       "      <th>start_station_name</th>\n",
       "      <th>start_station_latitude</th>\n",
       "      <th>start_station_longitude</th>\n",
       "      <th>end_station_id</th>\n",
       "      <th>end_station_name</th>\n",
       "      <th>end_station_latitude</th>\n",
       "      <th>end_station_longitude</th>\n",
       "      <th>bike_id</th>\n",
       "      <th>user_type</th>\n",
       "      <th>member_birth_year</th>\n",
       "      <th>member_gender</th>\n",
       "      <th>bike_share_for_all_trip</th>\n",
       "      <th>age</th>\n",
       "    </tr>\n",
       "  </thead>\n",
       "  <tbody>\n",
       "    <tr>\n",
       "      <th>0</th>\n",
       "      <td>80825</td>\n",
       "      <td>2019-01-31 17:57:44.613</td>\n",
       "      <td>2019-02-01 16:24:49.864</td>\n",
       "      <td>229.0</td>\n",
       "      <td>Foothill Blvd at 42nd Ave</td>\n",
       "      <td>37.775745</td>\n",
       "      <td>-122.213037</td>\n",
       "      <td>196.0</td>\n",
       "      <td>Grand Ave at Perkins St</td>\n",
       "      <td>37.808894</td>\n",
       "      <td>-122.256460</td>\n",
       "      <td>4861</td>\n",
       "      <td>Subscriber</td>\n",
       "      <td>1989</td>\n",
       "      <td>Male</td>\n",
       "      <td>No</td>\n",
       "      <td>30</td>\n",
       "    </tr>\n",
       "    <tr>\n",
       "      <th>1</th>\n",
       "      <td>65900</td>\n",
       "      <td>2019-01-31 20:58:33.886</td>\n",
       "      <td>2019-02-01 15:16:54.173</td>\n",
       "      <td>4.0</td>\n",
       "      <td>Cyril Magnin St at Ellis St</td>\n",
       "      <td>37.785881</td>\n",
       "      <td>-122.408915</td>\n",
       "      <td>134.0</td>\n",
       "      <td>Valencia St at 24th St</td>\n",
       "      <td>37.752428</td>\n",
       "      <td>-122.420628</td>\n",
       "      <td>5506</td>\n",
       "      <td>Subscriber</td>\n",
       "      <td>1989</td>\n",
       "      <td>Male</td>\n",
       "      <td>No</td>\n",
       "      <td>30</td>\n",
       "    </tr>\n",
       "    <tr>\n",
       "      <th>2</th>\n",
       "      <td>62633</td>\n",
       "      <td>2019-01-31 18:06:52.924</td>\n",
       "      <td>2019-02-01 11:30:46.530</td>\n",
       "      <td>245.0</td>\n",
       "      <td>Downtown Berkeley BART</td>\n",
       "      <td>37.870139</td>\n",
       "      <td>-122.268422</td>\n",
       "      <td>157.0</td>\n",
       "      <td>65th St at Hollis St</td>\n",
       "      <td>37.846784</td>\n",
       "      <td>-122.291376</td>\n",
       "      <td>2717</td>\n",
       "      <td>Customer</td>\n",
       "      <td>1965</td>\n",
       "      <td>Female</td>\n",
       "      <td>No</td>\n",
       "      <td>54</td>\n",
       "    </tr>\n",
       "  </tbody>\n",
       "</table>\n",
       "</div>"
      ],
      "text/plain": [
       "   duration_sec              start_time                end_time  \\\n",
       "0         80825 2019-01-31 17:57:44.613 2019-02-01 16:24:49.864   \n",
       "1         65900 2019-01-31 20:58:33.886 2019-02-01 15:16:54.173   \n",
       "2         62633 2019-01-31 18:06:52.924 2019-02-01 11:30:46.530   \n",
       "\n",
       "  start_station_id           start_station_name  start_station_latitude  \\\n",
       "0            229.0    Foothill Blvd at 42nd Ave               37.775745   \n",
       "1              4.0  Cyril Magnin St at Ellis St               37.785881   \n",
       "2            245.0       Downtown Berkeley BART               37.870139   \n",
       "\n",
       "   start_station_longitude end_station_id         end_station_name  \\\n",
       "0              -122.213037          196.0  Grand Ave at Perkins St   \n",
       "1              -122.408915          134.0   Valencia St at 24th St   \n",
       "2              -122.268422          157.0     65th St at Hollis St   \n",
       "\n",
       "   end_station_latitude  end_station_longitude bike_id   user_type  \\\n",
       "0             37.808894            -122.256460    4861  Subscriber   \n",
       "1             37.752428            -122.420628    5506  Subscriber   \n",
       "2             37.846784            -122.291376    2717    Customer   \n",
       "\n",
       "   member_birth_year member_gender bike_share_for_all_trip  age  \n",
       "0               1989          Male                      No   30  \n",
       "1               1989          Male                      No   30  \n",
       "2               1965        Female                      No   54  "
      ]
     },
     "execution_count": 18,
     "metadata": {},
     "output_type": "execute_result"
    }
   ],
   "source": [
    "df_copy.head(3)"
   ]
  },
  {
   "cell_type": "markdown",
   "metadata": {
    "slideshow": {
     "slide_type": "skip"
    }
   },
   "source": [
    "**Define**\n",
    "\n",
    "5. Create the day, month columns"
   ]
  },
  {
   "cell_type": "markdown",
   "metadata": {
    "slideshow": {
     "slide_type": "skip"
    }
   },
   "source": [
    "**Code**"
   ]
  },
  {
   "cell_type": "code",
   "execution_count": 38,
   "metadata": {
    "slideshow": {
     "slide_type": "skip"
    }
   },
   "outputs": [],
   "source": [
    "df_copy['start_time_month']=df_copy['start_time'].dt.strftime('%b')\n",
    "df_copy['start_time_month_num']=df_copy['start_time'].dt.month.astype(int)\n",
    "\n",
    "df_copy['start_time_day']=df_copy['start_time'].dt.strftime('%a')\n",
    "df_copy['start_time_hour']=df_copy['start_time'].dt.hour"
   ]
  },
  {
   "cell_type": "markdown",
   "metadata": {
    "slideshow": {
     "slide_type": "skip"
    }
   },
   "source": [
    "**Test**"
   ]
  },
  {
   "cell_type": "code",
   "execution_count": 39,
   "metadata": {
    "scrolled": true,
    "slideshow": {
     "slide_type": "skip"
    }
   },
   "outputs": [
    {
     "data": {
      "text/html": [
       "<div>\n",
       "<style scoped>\n",
       "    .dataframe tbody tr th:only-of-type {\n",
       "        vertical-align: middle;\n",
       "    }\n",
       "\n",
       "    .dataframe tbody tr th {\n",
       "        vertical-align: top;\n",
       "    }\n",
       "\n",
       "    .dataframe thead th {\n",
       "        text-align: right;\n",
       "    }\n",
       "</style>\n",
       "<table border=\"1\" class=\"dataframe\">\n",
       "  <thead>\n",
       "    <tr style=\"text-align: right;\">\n",
       "      <th></th>\n",
       "      <th>duration_sec</th>\n",
       "      <th>start_time</th>\n",
       "      <th>end_time</th>\n",
       "      <th>start_station_id</th>\n",
       "      <th>start_station_name</th>\n",
       "      <th>start_station_latitude</th>\n",
       "      <th>start_station_longitude</th>\n",
       "      <th>end_station_id</th>\n",
       "      <th>end_station_name</th>\n",
       "      <th>end_station_latitude</th>\n",
       "      <th>...</th>\n",
       "      <th>bike_id</th>\n",
       "      <th>user_type</th>\n",
       "      <th>member_birth_year</th>\n",
       "      <th>member_gender</th>\n",
       "      <th>bike_share_for_all_trip</th>\n",
       "      <th>age</th>\n",
       "      <th>start_time_month</th>\n",
       "      <th>start_time_month_num</th>\n",
       "      <th>start_time_day</th>\n",
       "      <th>start_time_hour</th>\n",
       "    </tr>\n",
       "  </thead>\n",
       "  <tbody>\n",
       "    <tr>\n",
       "      <th>157841</th>\n",
       "      <td>446</td>\n",
       "      <td>2019-03-14 05:31:18.412</td>\n",
       "      <td>2019-03-14 05:38:45.343</td>\n",
       "      <td>311.0</td>\n",
       "      <td>Paseo De San Antonio at 2nd St</td>\n",
       "      <td>37.333798</td>\n",
       "      <td>-121.886943</td>\n",
       "      <td>312.0</td>\n",
       "      <td>San Jose Diridon Station</td>\n",
       "      <td>37.329732</td>\n",
       "      <td>...</td>\n",
       "      <td>1058</td>\n",
       "      <td>Subscriber</td>\n",
       "      <td>1971</td>\n",
       "      <td>Male</td>\n",
       "      <td>No</td>\n",
       "      <td>48</td>\n",
       "      <td>Mar</td>\n",
       "      <td>3</td>\n",
       "      <td>Thu</td>\n",
       "      <td>5</td>\n",
       "    </tr>\n",
       "    <tr>\n",
       "      <th>59451</th>\n",
       "      <td>749</td>\n",
       "      <td>2019-05-22 07:04:47.545</td>\n",
       "      <td>2019-05-22 07:17:17.388</td>\n",
       "      <td>171.0</td>\n",
       "      <td>Rockridge BART Station</td>\n",
       "      <td>37.844279</td>\n",
       "      <td>-122.251900</td>\n",
       "      <td>181.0</td>\n",
       "      <td>Grand Ave at Webster St</td>\n",
       "      <td>37.811377</td>\n",
       "      <td>...</td>\n",
       "      <td>1143</td>\n",
       "      <td>Subscriber</td>\n",
       "      <td>1965</td>\n",
       "      <td>Male</td>\n",
       "      <td>No</td>\n",
       "      <td>54</td>\n",
       "      <td>May</td>\n",
       "      <td>5</td>\n",
       "      <td>Wed</td>\n",
       "      <td>7</td>\n",
       "    </tr>\n",
       "    <tr>\n",
       "      <th>212943</th>\n",
       "      <td>383</td>\n",
       "      <td>2019-04-03 17:41:01.969</td>\n",
       "      <td>2019-04-03 17:47:25.933</td>\n",
       "      <td>312.0</td>\n",
       "      <td>San Jose Diridon Station</td>\n",
       "      <td>37.329732</td>\n",
       "      <td>-121.901782</td>\n",
       "      <td>305.0</td>\n",
       "      <td>Ryland Park</td>\n",
       "      <td>37.342725</td>\n",
       "      <td>...</td>\n",
       "      <td>5733</td>\n",
       "      <td>Subscriber</td>\n",
       "      <td>1988</td>\n",
       "      <td>Male</td>\n",
       "      <td>No</td>\n",
       "      <td>31</td>\n",
       "      <td>Apr</td>\n",
       "      <td>4</td>\n",
       "      <td>Wed</td>\n",
       "      <td>17</td>\n",
       "    </tr>\n",
       "  </tbody>\n",
       "</table>\n",
       "<p>3 rows × 21 columns</p>\n",
       "</div>"
      ],
      "text/plain": [
       "        duration_sec              start_time                end_time  \\\n",
       "157841           446 2019-03-14 05:31:18.412 2019-03-14 05:38:45.343   \n",
       "59451            749 2019-05-22 07:04:47.545 2019-05-22 07:17:17.388   \n",
       "212943           383 2019-04-03 17:41:01.969 2019-04-03 17:47:25.933   \n",
       "\n",
       "       start_station_id              start_station_name  \\\n",
       "157841            311.0  Paseo De San Antonio at 2nd St   \n",
       "59451             171.0          Rockridge BART Station   \n",
       "212943            312.0        San Jose Diridon Station   \n",
       "\n",
       "        start_station_latitude  start_station_longitude end_station_id  \\\n",
       "157841               37.333798              -121.886943          312.0   \n",
       "59451                37.844279              -122.251900          181.0   \n",
       "212943               37.329732              -121.901782          305.0   \n",
       "\n",
       "                end_station_name  end_station_latitude       ...        \\\n",
       "157841  San Jose Diridon Station             37.329732       ...         \n",
       "59451    Grand Ave at Webster St             37.811377       ...         \n",
       "212943               Ryland Park             37.342725       ...         \n",
       "\n",
       "        bike_id   user_type member_birth_year  member_gender  \\\n",
       "157841     1058  Subscriber              1971           Male   \n",
       "59451      1143  Subscriber              1965           Male   \n",
       "212943     5733  Subscriber              1988           Male   \n",
       "\n",
       "       bike_share_for_all_trip age  start_time_month start_time_month_num  \\\n",
       "157841                      No  48               Mar                    3   \n",
       "59451                       No  54               May                    5   \n",
       "212943                      No  31               Apr                    4   \n",
       "\n",
       "        start_time_day start_time_hour  \n",
       "157841             Thu               5  \n",
       "59451              Wed               7  \n",
       "212943             Wed              17  \n",
       "\n",
       "[3 rows x 21 columns]"
      ]
     },
     "execution_count": 39,
     "metadata": {},
     "output_type": "execute_result"
    }
   ],
   "source": [
    "df_copy.sample(3)"
   ]
  },
  {
   "cell_type": "code",
   "execution_count": 21,
   "metadata": {
    "slideshow": {
     "slide_type": "skip"
    }
   },
   "outputs": [
    {
     "data": {
      "text/html": [
       "<div>\n",
       "<style scoped>\n",
       "    .dataframe tbody tr th:only-of-type {\n",
       "        vertical-align: middle;\n",
       "    }\n",
       "\n",
       "    .dataframe tbody tr th {\n",
       "        vertical-align: top;\n",
       "    }\n",
       "\n",
       "    .dataframe thead th {\n",
       "        text-align: right;\n",
       "    }\n",
       "</style>\n",
       "<table border=\"1\" class=\"dataframe\">\n",
       "  <thead>\n",
       "    <tr style=\"text-align: right;\">\n",
       "      <th></th>\n",
       "      <th>duration_sec</th>\n",
       "      <th>start_station_latitude</th>\n",
       "      <th>start_station_longitude</th>\n",
       "      <th>end_station_latitude</th>\n",
       "      <th>end_station_longitude</th>\n",
       "      <th>member_birth_year</th>\n",
       "      <th>age</th>\n",
       "      <th>start_time_month_num</th>\n",
       "      <th>start_time_hour</th>\n",
       "    </tr>\n",
       "  </thead>\n",
       "  <tbody>\n",
       "    <tr>\n",
       "      <th>count</th>\n",
       "      <td>1.003259e+06</td>\n",
       "      <td>1.003259e+06</td>\n",
       "      <td>1.003259e+06</td>\n",
       "      <td>1.003259e+06</td>\n",
       "      <td>1.003259e+06</td>\n",
       "      <td>1.003259e+06</td>\n",
       "      <td>1.003259e+06</td>\n",
       "      <td>1.003259e+06</td>\n",
       "      <td>1.003259e+06</td>\n",
       "    </tr>\n",
       "    <tr>\n",
       "      <th>mean</th>\n",
       "      <td>7.480446e+02</td>\n",
       "      <td>3.776962e+01</td>\n",
       "      <td>-1.223521e+02</td>\n",
       "      <td>3.776913e+01</td>\n",
       "      <td>-1.223495e+02</td>\n",
       "      <td>1.984708e+03</td>\n",
       "      <td>3.429222e+01</td>\n",
       "      <td>3.035337e+00</td>\n",
       "      <td>1.357881e+01</td>\n",
       "    </tr>\n",
       "    <tr>\n",
       "      <th>std</th>\n",
       "      <td>1.718367e+03</td>\n",
       "      <td>1.085494e-01</td>\n",
       "      <td>1.706751e-01</td>\n",
       "      <td>1.895675e-01</td>\n",
       "      <td>5.316750e-01</td>\n",
       "      <td>9.949797e+00</td>\n",
       "      <td>9.949797e+00</td>\n",
       "      <td>1.348825e+00</td>\n",
       "      <td>4.771746e+00</td>\n",
       "    </tr>\n",
       "    <tr>\n",
       "      <th>min</th>\n",
       "      <td>6.100000e+01</td>\n",
       "      <td>0.000000e+00</td>\n",
       "      <td>-1.224537e+02</td>\n",
       "      <td>0.000000e+00</td>\n",
       "      <td>-1.224537e+02</td>\n",
       "      <td>1.910000e+03</td>\n",
       "      <td>1.800000e+01</td>\n",
       "      <td>1.000000e+00</td>\n",
       "      <td>0.000000e+00</td>\n",
       "    </tr>\n",
       "    <tr>\n",
       "      <th>25%</th>\n",
       "      <td>3.370000e+02</td>\n",
       "      <td>3.777008e+01</td>\n",
       "      <td>-1.224125e+02</td>\n",
       "      <td>3.777041e+01</td>\n",
       "      <td>-1.224117e+02</td>\n",
       "      <td>1.980000e+03</td>\n",
       "      <td>2.700000e+01</td>\n",
       "      <td>2.000000e+00</td>\n",
       "      <td>9.000000e+00</td>\n",
       "    </tr>\n",
       "    <tr>\n",
       "      <th>50%</th>\n",
       "      <td>5.360000e+02</td>\n",
       "      <td>3.778079e+01</td>\n",
       "      <td>-1.223983e+02</td>\n",
       "      <td>3.778101e+01</td>\n",
       "      <td>-1.223974e+02</td>\n",
       "      <td>1.987000e+03</td>\n",
       "      <td>3.200000e+01</td>\n",
       "      <td>3.000000e+00</td>\n",
       "      <td>1.400000e+01</td>\n",
       "    </tr>\n",
       "    <tr>\n",
       "      <th>75%</th>\n",
       "      <td>8.360000e+02</td>\n",
       "      <td>3.779728e+01</td>\n",
       "      <td>-1.222887e+02</td>\n",
       "      <td>3.779732e+01</td>\n",
       "      <td>-1.222894e+02</td>\n",
       "      <td>1.992000e+03</td>\n",
       "      <td>3.900000e+01</td>\n",
       "      <td>4.000000e+00</td>\n",
       "      <td>1.700000e+01</td>\n",
       "    </tr>\n",
       "    <tr>\n",
       "      <th>max</th>\n",
       "      <td>8.611400e+04</td>\n",
       "      <td>3.788022e+01</td>\n",
       "      <td>0.000000e+00</td>\n",
       "      <td>3.788022e+01</td>\n",
       "      <td>0.000000e+00</td>\n",
       "      <td>2.001000e+03</td>\n",
       "      <td>1.090000e+02</td>\n",
       "      <td>5.000000e+00</td>\n",
       "      <td>2.300000e+01</td>\n",
       "    </tr>\n",
       "  </tbody>\n",
       "</table>\n",
       "</div>"
      ],
      "text/plain": [
       "       duration_sec  start_station_latitude  start_station_longitude  \\\n",
       "count  1.003259e+06            1.003259e+06             1.003259e+06   \n",
       "mean   7.480446e+02            3.776962e+01            -1.223521e+02   \n",
       "std    1.718367e+03            1.085494e-01             1.706751e-01   \n",
       "min    6.100000e+01            0.000000e+00            -1.224537e+02   \n",
       "25%    3.370000e+02            3.777008e+01            -1.224125e+02   \n",
       "50%    5.360000e+02            3.778079e+01            -1.223983e+02   \n",
       "75%    8.360000e+02            3.779728e+01            -1.222887e+02   \n",
       "max    8.611400e+04            3.788022e+01             0.000000e+00   \n",
       "\n",
       "       end_station_latitude  end_station_longitude  member_birth_year  \\\n",
       "count          1.003259e+06           1.003259e+06       1.003259e+06   \n",
       "mean           3.776913e+01          -1.223495e+02       1.984708e+03   \n",
       "std            1.895675e-01           5.316750e-01       9.949797e+00   \n",
       "min            0.000000e+00          -1.224537e+02       1.910000e+03   \n",
       "25%            3.777041e+01          -1.224117e+02       1.980000e+03   \n",
       "50%            3.778101e+01          -1.223974e+02       1.987000e+03   \n",
       "75%            3.779732e+01          -1.222894e+02       1.992000e+03   \n",
       "max            3.788022e+01           0.000000e+00       2.001000e+03   \n",
       "\n",
       "                age  start_time_month_num  start_time_hour  \n",
       "count  1.003259e+06          1.003259e+06     1.003259e+06  \n",
       "mean   3.429222e+01          3.035337e+00     1.357881e+01  \n",
       "std    9.949797e+00          1.348825e+00     4.771746e+00  \n",
       "min    1.800000e+01          1.000000e+00     0.000000e+00  \n",
       "25%    2.700000e+01          2.000000e+00     9.000000e+00  \n",
       "50%    3.200000e+01          3.000000e+00     1.400000e+01  \n",
       "75%    3.900000e+01          4.000000e+00     1.700000e+01  \n",
       "max    1.090000e+02          5.000000e+00     2.300000e+01  "
      ]
     },
     "execution_count": 21,
     "metadata": {},
     "output_type": "execute_result"
    }
   ],
   "source": [
    "df_copy.describe()"
   ]
  },
  {
   "cell_type": "markdown",
   "metadata": {
    "slideshow": {
     "slide_type": "skip"
    }
   },
   "source": [
    "**Define**\n",
    "\n",
    "6. Delte 0 value of start_station_latitude, start_station_longitude, end_station_latitude,end_station_longitude\n",
    "\n",
    "Zero degrees latitude is the line designating the Equator and divides the Earth into two equal hemispheres (north and south).  Zero degrees longitude is an imaginary line known as the Prime Meridian.  Therefore, we are looking for what exists at the location where the Equator and the Prime Meridian cross each other. https://www.geolounge.com/zero-degrees-latitude-and-zero-degrees-longitude/"
   ]
  },
  {
   "cell_type": "markdown",
   "metadata": {
    "slideshow": {
     "slide_type": "skip"
    }
   },
   "source": [
    "**Code**"
   ]
  },
  {
   "cell_type": "code",
   "execution_count": 22,
   "metadata": {
    "slideshow": {
     "slide_type": "skip"
    }
   },
   "outputs": [],
   "source": [
    "df_copy.query('start_station_latitude==\"0\"')\n",
    "df_copy = df_copy[df_copy['start_station_latitude'] != 0.0]\n",
    "df_copy = df_copy[df_copy['start_station_longitude'] != 0.0]\n",
    "df_copy = df_copy[df_copy['end_station_latitude'] != 0.0]\n",
    "df_copy = df_copy[df_copy['end_station_longitude'] != 0.0]"
   ]
  },
  {
   "cell_type": "markdown",
   "metadata": {
    "slideshow": {
     "slide_type": "skip"
    }
   },
   "source": [
    "**Test**"
   ]
  },
  {
   "cell_type": "code",
   "execution_count": 23,
   "metadata": {
    "slideshow": {
     "slide_type": "skip"
    }
   },
   "outputs": [
    {
     "data": {
      "text/html": [
       "<div>\n",
       "<style scoped>\n",
       "    .dataframe tbody tr th:only-of-type {\n",
       "        vertical-align: middle;\n",
       "    }\n",
       "\n",
       "    .dataframe tbody tr th {\n",
       "        vertical-align: top;\n",
       "    }\n",
       "\n",
       "    .dataframe thead th {\n",
       "        text-align: right;\n",
       "    }\n",
       "</style>\n",
       "<table border=\"1\" class=\"dataframe\">\n",
       "  <thead>\n",
       "    <tr style=\"text-align: right;\">\n",
       "      <th></th>\n",
       "      <th>duration_sec</th>\n",
       "      <th>start_station_latitude</th>\n",
       "      <th>start_station_longitude</th>\n",
       "      <th>end_station_latitude</th>\n",
       "      <th>end_station_longitude</th>\n",
       "      <th>member_birth_year</th>\n",
       "      <th>age</th>\n",
       "      <th>start_time_month_num</th>\n",
       "      <th>start_time_hour</th>\n",
       "    </tr>\n",
       "  </thead>\n",
       "  <tbody>\n",
       "    <tr>\n",
       "      <th>count</th>\n",
       "      <td>1.003240e+06</td>\n",
       "      <td>1.003240e+06</td>\n",
       "      <td>1.003240e+06</td>\n",
       "      <td>1.003240e+06</td>\n",
       "      <td>1.003240e+06</td>\n",
       "      <td>1.003240e+06</td>\n",
       "      <td>1.003240e+06</td>\n",
       "      <td>1.003240e+06</td>\n",
       "      <td>1.003240e+06</td>\n",
       "    </tr>\n",
       "    <tr>\n",
       "      <th>mean</th>\n",
       "      <td>7.480397e+02</td>\n",
       "      <td>3.776966e+01</td>\n",
       "      <td>-1.223522e+02</td>\n",
       "      <td>3.776981e+01</td>\n",
       "      <td>-1.223517e+02</td>\n",
       "      <td>1.984708e+03</td>\n",
       "      <td>3.429222e+01</td>\n",
       "      <td>3.035319e+00</td>\n",
       "      <td>1.357876e+01</td>\n",
       "    </tr>\n",
       "    <tr>\n",
       "      <th>std</th>\n",
       "      <td>1.718382e+03</td>\n",
       "      <td>1.017902e-01</td>\n",
       "      <td>1.192004e-01</td>\n",
       "      <td>1.016948e-01</td>\n",
       "      <td>1.187409e-01</td>\n",
       "      <td>9.949815e+00</td>\n",
       "      <td>9.949815e+00</td>\n",
       "      <td>1.348832e+00</td>\n",
       "      <td>4.771767e+00</td>\n",
       "    </tr>\n",
       "    <tr>\n",
       "      <th>min</th>\n",
       "      <td>6.100000e+01</td>\n",
       "      <td>3.731128e+01</td>\n",
       "      <td>-1.224537e+02</td>\n",
       "      <td>3.731128e+01</td>\n",
       "      <td>-1.224537e+02</td>\n",
       "      <td>1.910000e+03</td>\n",
       "      <td>1.800000e+01</td>\n",
       "      <td>1.000000e+00</td>\n",
       "      <td>0.000000e+00</td>\n",
       "    </tr>\n",
       "    <tr>\n",
       "      <th>25%</th>\n",
       "      <td>3.370000e+02</td>\n",
       "      <td>3.777008e+01</td>\n",
       "      <td>-1.224125e+02</td>\n",
       "      <td>3.777041e+01</td>\n",
       "      <td>-1.224117e+02</td>\n",
       "      <td>1.980000e+03</td>\n",
       "      <td>2.700000e+01</td>\n",
       "      <td>2.000000e+00</td>\n",
       "      <td>9.000000e+00</td>\n",
       "    </tr>\n",
       "    <tr>\n",
       "      <th>50%</th>\n",
       "      <td>5.360000e+02</td>\n",
       "      <td>3.778079e+01</td>\n",
       "      <td>-1.223983e+02</td>\n",
       "      <td>3.778101e+01</td>\n",
       "      <td>-1.223974e+02</td>\n",
       "      <td>1.987000e+03</td>\n",
       "      <td>3.200000e+01</td>\n",
       "      <td>3.000000e+00</td>\n",
       "      <td>1.400000e+01</td>\n",
       "    </tr>\n",
       "    <tr>\n",
       "      <th>75%</th>\n",
       "      <td>8.360000e+02</td>\n",
       "      <td>3.779728e+01</td>\n",
       "      <td>-1.222887e+02</td>\n",
       "      <td>3.779732e+01</td>\n",
       "      <td>-1.222894e+02</td>\n",
       "      <td>1.992000e+03</td>\n",
       "      <td>3.900000e+01</td>\n",
       "      <td>4.000000e+00</td>\n",
       "      <td>1.700000e+01</td>\n",
       "    </tr>\n",
       "    <tr>\n",
       "      <th>max</th>\n",
       "      <td>8.611400e+04</td>\n",
       "      <td>3.788022e+01</td>\n",
       "      <td>-1.218701e+02</td>\n",
       "      <td>3.788022e+01</td>\n",
       "      <td>-1.218701e+02</td>\n",
       "      <td>2.001000e+03</td>\n",
       "      <td>1.090000e+02</td>\n",
       "      <td>5.000000e+00</td>\n",
       "      <td>2.300000e+01</td>\n",
       "    </tr>\n",
       "  </tbody>\n",
       "</table>\n",
       "</div>"
      ],
      "text/plain": [
       "       duration_sec  start_station_latitude  start_station_longitude  \\\n",
       "count  1.003240e+06            1.003240e+06             1.003240e+06   \n",
       "mean   7.480397e+02            3.776966e+01            -1.223522e+02   \n",
       "std    1.718382e+03            1.017902e-01             1.192004e-01   \n",
       "min    6.100000e+01            3.731128e+01            -1.224537e+02   \n",
       "25%    3.370000e+02            3.777008e+01            -1.224125e+02   \n",
       "50%    5.360000e+02            3.778079e+01            -1.223983e+02   \n",
       "75%    8.360000e+02            3.779728e+01            -1.222887e+02   \n",
       "max    8.611400e+04            3.788022e+01            -1.218701e+02   \n",
       "\n",
       "       end_station_latitude  end_station_longitude  member_birth_year  \\\n",
       "count          1.003240e+06           1.003240e+06       1.003240e+06   \n",
       "mean           3.776981e+01          -1.223517e+02       1.984708e+03   \n",
       "std            1.016948e-01           1.187409e-01       9.949815e+00   \n",
       "min            3.731128e+01          -1.224537e+02       1.910000e+03   \n",
       "25%            3.777041e+01          -1.224117e+02       1.980000e+03   \n",
       "50%            3.778101e+01          -1.223974e+02       1.987000e+03   \n",
       "75%            3.779732e+01          -1.222894e+02       1.992000e+03   \n",
       "max            3.788022e+01          -1.218701e+02       2.001000e+03   \n",
       "\n",
       "                age  start_time_month_num  start_time_hour  \n",
       "count  1.003240e+06          1.003240e+06     1.003240e+06  \n",
       "mean   3.429222e+01          3.035319e+00     1.357876e+01  \n",
       "std    9.949815e+00          1.348832e+00     4.771767e+00  \n",
       "min    1.800000e+01          1.000000e+00     0.000000e+00  \n",
       "25%    2.700000e+01          2.000000e+00     9.000000e+00  \n",
       "50%    3.200000e+01          3.000000e+00     1.400000e+01  \n",
       "75%    3.900000e+01          4.000000e+00     1.700000e+01  \n",
       "max    1.090000e+02          5.000000e+00     2.300000e+01  "
      ]
     },
     "execution_count": 23,
     "metadata": {},
     "output_type": "execute_result"
    }
   ],
   "source": [
    "df_copy.describe()"
   ]
  },
  {
   "cell_type": "code",
   "execution_count": 24,
   "metadata": {
    "slideshow": {
     "slide_type": "skip"
    }
   },
   "outputs": [
    {
     "data": {
      "text/html": [
       "<div>\n",
       "<style scoped>\n",
       "    .dataframe tbody tr th:only-of-type {\n",
       "        vertical-align: middle;\n",
       "    }\n",
       "\n",
       "    .dataframe tbody tr th {\n",
       "        vertical-align: top;\n",
       "    }\n",
       "\n",
       "    .dataframe thead th {\n",
       "        text-align: right;\n",
       "    }\n",
       "</style>\n",
       "<table border=\"1\" class=\"dataframe\">\n",
       "  <thead>\n",
       "    <tr style=\"text-align: right;\">\n",
       "      <th></th>\n",
       "      <th>duration_sec</th>\n",
       "      <th>start_time</th>\n",
       "      <th>end_time</th>\n",
       "      <th>start_station_id</th>\n",
       "      <th>start_station_name</th>\n",
       "      <th>start_station_latitude</th>\n",
       "      <th>start_station_longitude</th>\n",
       "      <th>end_station_id</th>\n",
       "      <th>end_station_name</th>\n",
       "      <th>end_station_latitude</th>\n",
       "      <th>...</th>\n",
       "      <th>bike_id</th>\n",
       "      <th>user_type</th>\n",
       "      <th>member_birth_year</th>\n",
       "      <th>member_gender</th>\n",
       "      <th>bike_share_for_all_trip</th>\n",
       "      <th>age</th>\n",
       "      <th>start_time_month</th>\n",
       "      <th>start_time_month_num</th>\n",
       "      <th>start_time_day</th>\n",
       "      <th>start_time_hour</th>\n",
       "    </tr>\n",
       "  </thead>\n",
       "  <tbody>\n",
       "    <tr>\n",
       "      <th>0</th>\n",
       "      <td>80825</td>\n",
       "      <td>2019-01-31 17:57:44.613</td>\n",
       "      <td>2019-02-01 16:24:49.864</td>\n",
       "      <td>229.0</td>\n",
       "      <td>Foothill Blvd at 42nd Ave</td>\n",
       "      <td>37.775745</td>\n",
       "      <td>-122.213037</td>\n",
       "      <td>196.0</td>\n",
       "      <td>Grand Ave at Perkins St</td>\n",
       "      <td>37.808894</td>\n",
       "      <td>...</td>\n",
       "      <td>4861</td>\n",
       "      <td>Subscriber</td>\n",
       "      <td>1989</td>\n",
       "      <td>Male</td>\n",
       "      <td>No</td>\n",
       "      <td>30</td>\n",
       "      <td>Jan</td>\n",
       "      <td>1</td>\n",
       "      <td>Thu</td>\n",
       "      <td>17</td>\n",
       "    </tr>\n",
       "    <tr>\n",
       "      <th>1</th>\n",
       "      <td>65900</td>\n",
       "      <td>2019-01-31 20:58:33.886</td>\n",
       "      <td>2019-02-01 15:16:54.173</td>\n",
       "      <td>4.0</td>\n",
       "      <td>Cyril Magnin St at Ellis St</td>\n",
       "      <td>37.785881</td>\n",
       "      <td>-122.408915</td>\n",
       "      <td>134.0</td>\n",
       "      <td>Valencia St at 24th St</td>\n",
       "      <td>37.752428</td>\n",
       "      <td>...</td>\n",
       "      <td>5506</td>\n",
       "      <td>Subscriber</td>\n",
       "      <td>1989</td>\n",
       "      <td>Male</td>\n",
       "      <td>No</td>\n",
       "      <td>30</td>\n",
       "      <td>Jan</td>\n",
       "      <td>1</td>\n",
       "      <td>Thu</td>\n",
       "      <td>20</td>\n",
       "    </tr>\n",
       "    <tr>\n",
       "      <th>2</th>\n",
       "      <td>62633</td>\n",
       "      <td>2019-01-31 18:06:52.924</td>\n",
       "      <td>2019-02-01 11:30:46.530</td>\n",
       "      <td>245.0</td>\n",
       "      <td>Downtown Berkeley BART</td>\n",
       "      <td>37.870139</td>\n",
       "      <td>-122.268422</td>\n",
       "      <td>157.0</td>\n",
       "      <td>65th St at Hollis St</td>\n",
       "      <td>37.846784</td>\n",
       "      <td>...</td>\n",
       "      <td>2717</td>\n",
       "      <td>Customer</td>\n",
       "      <td>1965</td>\n",
       "      <td>Female</td>\n",
       "      <td>No</td>\n",
       "      <td>54</td>\n",
       "      <td>Jan</td>\n",
       "      <td>1</td>\n",
       "      <td>Thu</td>\n",
       "      <td>18</td>\n",
       "    </tr>\n",
       "  </tbody>\n",
       "</table>\n",
       "<p>3 rows × 21 columns</p>\n",
       "</div>"
      ],
      "text/plain": [
       "   duration_sec              start_time                end_time  \\\n",
       "0         80825 2019-01-31 17:57:44.613 2019-02-01 16:24:49.864   \n",
       "1         65900 2019-01-31 20:58:33.886 2019-02-01 15:16:54.173   \n",
       "2         62633 2019-01-31 18:06:52.924 2019-02-01 11:30:46.530   \n",
       "\n",
       "  start_station_id           start_station_name  start_station_latitude  \\\n",
       "0            229.0    Foothill Blvd at 42nd Ave               37.775745   \n",
       "1              4.0  Cyril Magnin St at Ellis St               37.785881   \n",
       "2            245.0       Downtown Berkeley BART               37.870139   \n",
       "\n",
       "   start_station_longitude end_station_id         end_station_name  \\\n",
       "0              -122.213037          196.0  Grand Ave at Perkins St   \n",
       "1              -122.408915          134.0   Valencia St at 24th St   \n",
       "2              -122.268422          157.0     65th St at Hollis St   \n",
       "\n",
       "   end_station_latitude       ...        bike_id   user_type  \\\n",
       "0             37.808894       ...           4861  Subscriber   \n",
       "1             37.752428       ...           5506  Subscriber   \n",
       "2             37.846784       ...           2717    Customer   \n",
       "\n",
       "  member_birth_year  member_gender bike_share_for_all_trip age  \\\n",
       "0              1989           Male                      No  30   \n",
       "1              1989           Male                      No  30   \n",
       "2              1965         Female                      No  54   \n",
       "\n",
       "   start_time_month start_time_month_num  start_time_day start_time_hour  \n",
       "0               Jan                    1             Thu              17  \n",
       "1               Jan                    1             Thu              20  \n",
       "2               Jan                    1             Thu              18  \n",
       "\n",
       "[3 rows x 21 columns]"
      ]
     },
     "execution_count": 24,
     "metadata": {},
     "output_type": "execute_result"
    }
   ],
   "source": [
    "df_copy.head(3)"
   ]
  },
  {
   "cell_type": "markdown",
   "metadata": {
    "slideshow": {
     "slide_type": "skip"
    }
   },
   "source": [
    "#### <a id='storing'></a>\n",
    "## 4. Storing Data"
   ]
  },
  {
   "cell_type": "code",
   "execution_count": 25,
   "metadata": {
    "slideshow": {
     "slide_type": "skip"
    }
   },
   "outputs": [],
   "source": [
    "df_copy.to_csv('baywheels_master.csv', index = False)"
   ]
  },
  {
   "cell_type": "markdown",
   "metadata": {
    "slideshow": {
     "slide_type": "slide"
    }
   },
   "source": [
    "#### <a id='univariate'></a>\n",
    "## Univariate Visualization"
   ]
  },
  {
   "cell_type": "code",
   "execution_count": 26,
   "metadata": {
    "slideshow": {
     "slide_type": "skip"
    }
   },
   "outputs": [],
   "source": [
    "visual_master = df_copy.copy()"
   ]
  },
  {
   "cell_type": "markdown",
   "metadata": {
    "slideshow": {
     "slide_type": "subslide"
    }
   },
   "source": [
    "The main findings that I will explore are below:\n",
    "- How long does the average trip take?\n",
    "- What is weekly usage of BayWheels?\n",
    "- What is proportion of BayWheels user type?\n",
    "- Trip duration Per User Type based on Gender?"
   ]
  },
  {
   "cell_type": "markdown",
   "metadata": {
    "slideshow": {
     "slide_type": "slide"
    }
   },
   "source": [
    "### A. How long does the average trip takes?"
   ]
  },
  {
   "cell_type": "code",
   "execution_count": 27,
   "metadata": {
    "scrolled": true,
    "slideshow": {
     "slide_type": "subslide"
    }
   },
   "outputs": [
    {
     "data": {
      "image/png": "[encoded data removed]",
      "text/plain": [
       "<Figure size 720x360 with 2 Axes>"
      ]
     },
     "metadata": {
      "needs_background": "light"
     },
     "output_type": "display_data"
    }
   ],
   "source": [
    "plt.figure(figsize = [10,5])\n",
    "plt.subplot(1,2,1)\n",
    "bins = np.arange(0, visual_master['duration_sec'].max()+ 0, 50)\n",
    "plt.hist(data=visual_master, x = 'duration_sec', bins = bins)\n",
    "plt.xlim(0,8700)\n",
    "plt.title('Average Trip Duration (Seconds)')\n",
    "plt.xlabel('Trip Duration (Seconds)')\n",
    "plt.ylabel('Number of Trips')\n",
    "\n",
    "# Transform into log to better understand the data\n",
    "plt.subplot(1,2,2)\n",
    "visual_master['duration_min'] = visual_master['duration_sec']/60\n",
    "bins = 10**np.arange(0 , np.log10(visual_master['duration_min'].max())+0.1, 0.1)\n",
    "ticks =  [1, 3, 10, 30, 100, 300, 1000]\n",
    "labels = ['{}'.format(tick) for tick in ticks]\n",
    "plt.hist(data = visual_master , x = 'duration_min', bins = bins);\n",
    "plt.xscale('log');\n",
    "plt.xticks(ticks,labels);\n",
    "plt.xlabel('Duration (Minutes)');\n",
    "plt.title('Average Bike Trip Duration (Minutes)');\n",
    "plt.ylabel('Number of Trips');"
   ]
  },
  {
   "cell_type": "code",
   "execution_count": 28,
   "metadata": {
    "scrolled": true,
    "slideshow": {
     "slide_type": "skip"
    }
   },
   "outputs": [
    {
     "name": "stdout",
     "output_type": "stream",
     "text": [
      "12.467328106933834\n"
     ]
    },
    {
     "data": {
      "text/plain": [
       "(0.007178584627123376, 3.156922512318342)"
      ]
     },
     "execution_count": 28,
     "metadata": {},
     "output_type": "execute_result"
    }
   ],
   "source": [
    "print(visual_master['duration_min'].mean())\n",
    "np.log10(visual_master['duration_min'].min()), np.log10(visual_master['duration_min'].max())"
   ]
  },
  {
   "cell_type": "markdown",
   "metadata": {
    "slideshow": {
     "slide_type": "slide"
    }
   },
   "source": [
    "### B. Weekly Usage of BayWheels"
   ]
  },
  {
   "cell_type": "code",
   "execution_count": 29,
   "metadata": {
    "slideshow": {
     "slide_type": "subslide"
    }
   },
   "outputs": [
    {
     "data": {
      "image/png": "[encoded data removed]",
      "text/plain": [
       "<Figure size 360x360 with 1 Axes>"
      ]
     },
     "metadata": {
      "needs_background": "light"
     },
     "output_type": "display_data"
    }
   ],
   "source": [
    "days = ['Mon', 'Tue', 'Wed', 'Thu', 'Fri', 'Sat', 'Sun']\n",
    "base_color = sb.color_palette()[0]\n",
    "g = sb.catplot(data = visual_master, x='start_time_day', kind ='count', color=base_color, order = days)\n",
    "g.set_axis_labels('Days', 'Number of Trips')\n",
    "g.fig.suptitle('Weekly Usage of BayWheels BikeShare', y=1, fontsize=15, fontweight='demibold');"
   ]
  },
  {
   "cell_type": "markdown",
   "metadata": {
    "slideshow": {
     "slide_type": "subslide"
    }
   },
   "source": [
    "- BikeShare people use BayWheels on weekdays(M-F) with the average number of trips more than 150,000 times in 2019 (Jan-May). \n",
    "- It is interesting to see that they use BayWheels much less during weekends. "
   ]
  },
  {
   "cell_type": "markdown",
   "metadata": {
    "slideshow": {
     "slide_type": "slide"
    }
   },
   "source": [
    "### C. User Type of BayWheels"
   ]
  },
  {
   "cell_type": "code",
   "execution_count": 30,
   "metadata": {
    "slideshow": {
     "slide_type": "subslide"
    }
   },
   "outputs": [
    {
     "data": {
      "image/png": "[encoded data removed]",
      "text/plain": [
       "<Figure size 432x288 with 1 Axes>"
      ]
     },
     "metadata": {},
     "output_type": "display_data"
    }
   ],
   "source": [
    "# Pie chart, where the slices will be ordered and plotted counter-clockwise:\n",
    "labels = ['Subscriber', 'Customer']\n",
    "sizes = visual_master['user_type'].value_counts()\n",
    "explode = (0, 0.1)  # only \"explode\" the 2nd slice\n",
    "\n",
    "fig1, ax1 = plt.subplots()\n",
    "ax1.pie(sizes, explode=explode, counterclock=False, labels=labels, autopct='%1.1f%%',\n",
    "        shadow=False, startangle=90)\n",
    "ax1.axis('equal')  # Equal aspect ratio ensures that pie is drawn as a circle.\n",
    "plt.title('The User Type of BayWheels', size = 13, fontweight = 'demibold')\n",
    "plt.legend(loc = 1, ncol = 1, framealpha = 0.1);"
   ]
  },
  {
   "cell_type": "markdown",
   "metadata": {
    "slideshow": {
     "slide_type": "subslide"
    }
   },
   "source": [
    "**Analysis**\n",
    "\n",
    "The BayWheels platform is generally employed by **88.6% of Subscribers** and **11.4% of daily Customers** "
   ]
  },
  {
   "cell_type": "markdown",
   "metadata": {
    "slideshow": {
     "slide_type": "slide"
    }
   },
   "source": [
    "### D. Hourly Usage of the BayWheels Trips"
   ]
  },
  {
   "cell_type": "code",
   "execution_count": 41,
   "metadata": {
    "slideshow": {
     "slide_type": "subslide"
    }
   },
   "outputs": [
    {
     "data": {
      "image/png": "[encoded data removed]",
      "text/plain": [
       "<Figure size 360x360 with 1 Axes>"
      ]
     },
     "metadata": {
      "needs_background": "light"
     },
     "output_type": "display_data"
    }
   ],
   "source": [
    "# bike sharing system hourly usage. \n",
    "g = sb.catplot(data=visual_master, x='start_time_hour', kind='count', color = base_color)\n",
    "g.set_axis_labels(\"Hours\", \"Number of Bike Trips\")\n",
    "g.fig.suptitle('The Hourly Usage of Bay Wheels Trips', y=1.0, fontsize=15, fontweight='demibold');"
   ]
  },
  {
   "cell_type": "markdown",
   "metadata": {
    "slideshow": {
     "slide_type": "slide"
    }
   },
   "source": [
    "#### <a id='bivariate'></a>\n",
    "## 6. Bivariate Visualization"
   ]
  },
  {
   "cell_type": "markdown",
   "metadata": {
    "slideshow": {
     "slide_type": "slide"
    }
   },
   "source": [
    "### E. The relationship Between User Type and Trip Duration"
   ]
  },
  {
   "cell_type": "code",
   "execution_count": 40,
   "metadata": {
    "slideshow": {
     "slide_type": "subslide"
    }
   },
   "outputs": [
    {
     "data": {
      "image/png": "[encoded data removed]",
      "text/plain": [
       "<Figure size 432x288 with 1 Axes>"
      ]
     },
     "metadata": {
      "needs_background": "light"
     },
     "output_type": "display_data"
    }
   ],
   "source": [
    "sb.boxplot(data = visual_master, x='user_type', y='duration_min', color = base_color)\n",
    "plt.title('The relationship Between User Type and Trip Duration')\n",
    "plt.ylim(0,60);"
   ]
  },
  {
   "cell_type": "markdown",
   "metadata": {
    "slideshow": {
     "slide_type": "subslide"
    }
   },
   "source": [
    "**Analysis**\n",
    "1. The median of trip duration of customers is 12 min, while it's 9 min for subscribers.\n",
    "2. For BayWheels customers, interquartile range (IQR: 25th to the 75th percentile) is between 9 min to 23 min. \n",
    "3. For BayWheels subscribers, IQR is between 6 min to 14 min. \n",
    "4. The maximum (Q3 + 1.5 * IQR) for customers is 43 min, but we can observe that there are so many ourliers.\n",
    "5. The maximum for subscribers is 24 min. We can observe that there are so many ourliers as well. \n",
    "\n",
    "Which means, most of both customers and subscribers finish trips within 43 min, but there are many other people riding Baywheels for longer duration of time. "
   ]
  },
  {
   "cell_type": "markdown",
   "metadata": {
    "slideshow": {
     "slide_type": "slide"
    }
   },
   "source": [
    "\n",
    "#### <a id='multivariate'></a>\n",
    "## 7. Multivariate Visualization"
   ]
  },
  {
   "cell_type": "markdown",
   "metadata": {
    "slideshow": {
     "slide_type": "subslide"
    }
   },
   "source": [
    "In this section, I will explore more about the relatinoship between user type, trip duration and **gender**"
   ]
  },
  {
   "cell_type": "markdown",
   "metadata": {
    "slideshow": {
     "slide_type": "slide"
    }
   },
   "source": [
    "### F.  The Relatinoship Among User Type and Number of Trips and Gender"
   ]
  },
  {
   "cell_type": "code",
   "execution_count": 33,
   "metadata": {
    "slideshow": {
     "slide_type": "subslide"
    }
   },
   "outputs": [
    {
     "data": {
      "image/png": "[encoded data removed]",
      "text/plain": [
       "<Figure size 432x360 with 1 Axes>"
      ]
     },
     "metadata": {
      "needs_background": "light"
     },
     "output_type": "display_data"
    }
   ],
   "source": [
    "plt.figure(figsize = [6, 5])\n",
    "\n",
    "# code for the bar chart\n",
    "g = sb.countplot(data=visual_master, x=\"user_type\", hue=\"member_gender\",\n",
    "                 order = visual_master.user_type.value_counts().index)\n",
    "g.set_xlabel('User Type')\n",
    "g.set_ylabel('Number of Trips')\n",
    "plt.title('Number of Trips per User Type and Gender')\n",
    "g.legend(loc = 1, ncol = 1, framealpha = 1, title = 'Gender');"
   ]
  },
  {
   "cell_type": "markdown",
   "metadata": {
    "slideshow": {
     "slide_type": "subslide"
    }
   },
   "source": [
    "**Analysis**\n",
    "\n",
    "- In summary, males are using lyft's BayWheels platform way more than females and others. \n",
    "- One insight that I found is that the ratio between male and female for **Subscriber** is about 3:1 while the ratio is 2:1 for **Customer**. "
   ]
  },
  {
   "cell_type": "markdown",
   "metadata": {
    "slideshow": {
     "slide_type": "slide"
    }
   },
   "source": [
    "### G. Monthly, Weekly & Hourly Usage of Baywheels Per User Type and Gender"
   ]
  },
  {
   "cell_type": "code",
   "execution_count": 34,
   "metadata": {
    "slideshow": {
     "slide_type": "subslide"
    }
   },
   "outputs": [
    {
     "data": {
      "image/png": "[encoded data removed]",
      "text/plain": [
       "<Figure size 810.375x360 with 2 Axes>"
      ]
     },
     "metadata": {
      "needs_background": "light"
     },
     "output_type": "display_data"
    }
   ],
   "source": [
    "months = ['Jan', 'Feb', 'Mar', 'Apr', 'May']\n",
    "g = sb.catplot(data=visual_master, x='start_time_month', col='user_type', hue='member_gender', kind='count', sharey = False,\n",
    "                order = months)\n",
    "g.set_axis_labels(\"Months\", \"Number of BayWheels Trips\")\n",
    "g.set_titles(\"{col_name}\")\n",
    "g._legend.set_title('Gender')\n",
    "g.fig.suptitle('Monthly Usage of Baywheels Per User Type and Gender', y=1.2, fontsize=15, fontweight='demibold');\n"
   ]
  },
  {
   "cell_type": "markdown",
   "metadata": {
    "slideshow": {
     "slide_type": "subslide"
    }
   },
   "source": [
    "- The difference of monthly usage between customer and subscriber is not really obvious. \n",
    "- The ratio between male and female on **customer side is about 2:1** and **3:1 on subscriber side**"
   ]
  },
  {
   "cell_type": "code",
   "execution_count": 35,
   "metadata": {
    "slideshow": {
     "slide_type": "subslide"
    }
   },
   "outputs": [
    {
     "data": {
      "image/png": "[encoded data removed]",
      "text/plain": [
       "<Figure size 810.375x360 with 2 Axes>"
      ]
     },
     "metadata": {
      "needs_background": "light"
     },
     "output_type": "display_data"
    }
   ],
   "source": [
    "g = sb.catplot(data=visual_master, x='start_time_day', col='user_type', hue='member_gender', kind='count', sharey = False,\n",
    "                order = days)\n",
    "g.set_axis_labels(\"Weekdays\", \"Number of BayWheels Trips\")\n",
    "g.set_titles(\"{col_name}\")\n",
    "g._legend.set_title('Gender')\n",
    "g.fig.suptitle('Weekly Usage of Baywheels Per User Type and Gender', y=1.2, fontsize=15, fontweight='demibold');\n"
   ]
  },
  {
   "cell_type": "markdown",
   "metadata": {
    "slideshow": {
     "slide_type": "subslide"
    }
   },
   "source": [
    "- We can see more clearly again that subscribers use BayWheels much less during weekends; those subscribers tend to use bikeshare for commute to work, while customers use BayWheels the most during weekend (Friday - Saturday).\n"
   ]
  },
  {
   "cell_type": "code",
   "execution_count": 36,
   "metadata": {
    "slideshow": {
     "slide_type": "subslide"
    }
   },
   "outputs": [
    {
     "data": {
      "image/png": "[encoded data removed]",
      "text/plain": [
       "<Figure size 810.375x360 with 2 Axes>"
      ]
     },
     "metadata": {
      "needs_background": "light"
     },
     "output_type": "display_data"
    }
   ],
   "source": [
    "g = sb.catplot(data=visual_master, x='start_time_hour', col='user_type', hue='member_gender', kind='count', sharey = False)\n",
    "g.set_axis_labels(\"Hours\", \"Number of BayWheels Trips\")\n",
    "g.set_titles(\"{col_name}\")\n",
    "g._legend.set_title('Gender')\n",
    "g.fig.suptitle('Hourly Usage of Baywheels Per User Type and Gender', y=1.2, fontsize=15, fontweight='demibold');"
   ]
  },
  {
   "cell_type": "markdown",
   "metadata": {
    "slideshow": {
     "slide_type": "subslide"
    }
   },
   "source": [
    "- We can see there are lots of male subscrbiers who highly likely use bayWheels for commute to work (7-9AM & 4-6PM)\n",
    "- There are a large number of male customers who use BayWheels around 4-6PM during weekends"
   ]
  },
  {
   "cell_type": "markdown",
   "metadata": {
    "slideshow": {
     "slide_type": "slide"
    }
   },
   "source": [
    "### H.  The Trip Duration per User Type and Gender"
   ]
  },
  {
   "cell_type": "code",
   "execution_count": 37,
   "metadata": {
    "slideshow": {
     "slide_type": "subslide"
    }
   },
   "outputs": [
    {
     "data": {
      "text/plain": [
       "(0, 60)"
      ]
     },
     "execution_count": 37,
     "metadata": {},
     "output_type": "execute_result"
    },
    {
     "data": {
      "image/png": "[encoded data removed]",
      "text/plain": [
       "<Figure size 450.375x360 with 1 Axes>"
      ]
     },
     "metadata": {
      "needs_background": "light"
     },
     "output_type": "display_data"
    }
   ],
   "source": [
    "# code for the (violinplot) duration (sec) distribution per user type and gender\n",
    "\n",
    "g = sb.catplot(data=visual_master,x='user_type', y=\"duration_min\", hue=\"member_gender\", kind=\"box\")\n",
    "g.set_axis_labels(\"User Type\", \"Trip duration (min)\")\n",
    "g.fig.suptitle('Trip duration Per User Type and Gender', y=1.1, fontsize=15, fontweight='demibold')\n",
    "g._legend.set_title('Gender')\n",
    "plt.ylim(0,60)"
   ]
  },
  {
   "cell_type": "markdown",
   "metadata": {
    "slideshow": {
     "slide_type": "subslide"
    }
   },
   "source": [
    "**Analysis**\n",
    "1. On the customer side, females take longer trips than males and others.\n",
    "2. On the Sucscriber side, females take longer trips than males but similar to others\n",
    "3. It is more distinct on the customer side that females take approximately 25 min trip, but both males and others take about 21 min."
   ]
  },
  {
   "cell_type": "markdown",
   "metadata": {
    "slideshow": {
     "slide_type": "slide"
    }
   },
   "source": [
    "#### <a id='reference'></a>\n",
    "### 8. Reference\n",
    "\n",
    "- https://matplotlib.org/3.1.0/gallery/pie_and_polar_charts/pie_features.html#sphx-glr-gallery-pie-and-polar-charts-pie-features-py\n",
    "- https://www.geolounge.com/zero-degrees-latitude-and-zero-degrees-longitude/\n",
    "- https://en.wikipedia.org/wiki/Oldest_people"
   ]
  }
 ],
 "metadata": {
  "celltoolbar": "Slideshow",
  "kernelspec": {
   "display_name": "Python 3",
   "language": "python",
   "name": "python3"
  },
  "language_info": {
   "codemirror_mode": {
    "name": "ipython",
    "version": 3
   },
   "file_extension": ".py",
   "mimetype": "text/x-python",
   "name": "python",
   "nbconvert_exporter": "python",
   "pygments_lexer": "ipython3",
   "version": "3.7.1"
  }
 },
 "nbformat": 4,
 "nbformat_minor": 2
}
